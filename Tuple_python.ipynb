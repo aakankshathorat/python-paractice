{
 "cells": [
  {
   "cell_type": "code",
   "execution_count": 1,
   "id": "506aba53",
   "metadata": {},
   "outputs": [],
   "source": [
    "t = ()"
   ]
  },
  {
   "cell_type": "raw",
   "id": "970c6794",
   "metadata": {},
   "source": [
    "1 .Data type"
   ]
  },
  {
   "cell_type": "code",
   "execution_count": 2,
   "id": "1d42f29f",
   "metadata": {},
   "outputs": [
    {
     "data": {
      "text/plain": [
       "tuple"
      ]
     },
     "execution_count": 2,
     "metadata": {},
     "output_type": "execute_result"
    }
   ],
   "source": [
    "type(t)"
   ]
  },
  {
   "cell_type": "code",
   "execution_count": 3,
   "id": "0d0a96be",
   "metadata": {},
   "outputs": [],
   "source": [
    "t = (23, 45, 67.4, \"python\", True)"
   ]
  },
  {
   "cell_type": "code",
   "execution_count": 4,
   "id": "0a8ff15e",
   "metadata": {},
   "outputs": [
    {
     "data": {
      "text/plain": [
       "(23, 45, 67.4, 'python', True)"
      ]
     },
     "execution_count": 4,
     "metadata": {},
     "output_type": "execute_result"
    }
   ],
   "source": [
    "t"
   ]
  },
  {
   "cell_type": "raw",
   "id": "fe871742",
   "metadata": {},
   "source": [
    "2.length "
   ]
  },
  {
   "cell_type": "code",
   "execution_count": 6,
   "id": "9f2cd615",
   "metadata": {},
   "outputs": [
    {
     "data": {
      "text/plain": [
       "5"
      ]
     },
     "execution_count": 6,
     "metadata": {},
     "output_type": "execute_result"
    }
   ],
   "source": [
    "len(t)"
   ]
  },
  {
   "cell_type": "raw",
   "id": "f3cd58cd",
   "metadata": {},
   "source": [
    "slicing mean it collection of [start:end:step]"
   ]
  },
  {
   "cell_type": "code",
   "execution_count": 7,
   "id": "6ae2c219",
   "metadata": {},
   "outputs": [
    {
     "data": {
      "text/plain": [
       "(True, 'python', 67.4, 45, 23)"
      ]
     },
     "execution_count": 7,
     "metadata": {},
     "output_type": "execute_result"
    }
   ],
   "source": [
    "t[::-1]"
   ]
  },
  {
   "cell_type": "code",
   "execution_count": 8,
   "id": "8a55fd4f",
   "metadata": {},
   "outputs": [
    {
     "data": {
      "text/plain": [
       "(45, 67.4, 'python')"
      ]
     },
     "execution_count": 8,
     "metadata": {},
     "output_type": "execute_result"
    }
   ],
   "source": [
    "t[1:4]"
   ]
  },
  {
   "cell_type": "raw",
   "id": "b1e68290",
   "metadata": {},
   "source": [
    "3. index"
   ]
  },
  {
   "cell_type": "code",
   "execution_count": 9,
   "id": "4eaa8243",
   "metadata": {},
   "outputs": [
    {
     "data": {
      "text/plain": [
       "1"
      ]
     },
     "execution_count": 9,
     "metadata": {},
     "output_type": "execute_result"
    }
   ],
   "source": [
    "t.index(45)"
   ]
  },
  {
   "cell_type": "raw",
   "id": "c42e7a8d",
   "metadata": {},
   "source": [
    "4. Count"
   ]
  },
  {
   "cell_type": "code",
   "execution_count": 10,
   "id": "61b5772f",
   "metadata": {},
   "outputs": [
    {
     "data": {
      "text/plain": [
       "0"
      ]
     },
     "execution_count": 10,
     "metadata": {},
     "output_type": "execute_result"
    }
   ],
   "source": [
    "t.count(100)"
   ]
  },
  {
   "cell_type": "code",
   "execution_count": 13,
   "id": "8f22a7f7",
   "metadata": {},
   "outputs": [
    {
     "data": {
      "text/plain": [
       "1"
      ]
     },
     "execution_count": 13,
     "metadata": {},
     "output_type": "execute_result"
    }
   ],
   "source": [
    "t.count(67.4)"
   ]
  },
  {
   "cell_type": "raw",
   "id": "9d107949",
   "metadata": {},
   "source": [
    "5.Sorted"
   ]
  },
  {
   "cell_type": "code",
   "execution_count": 14,
   "id": "843e1866",
   "metadata": {},
   "outputs": [],
   "source": [
    "t = (25,75,50,100,86,95)"
   ]
  },
  {
   "cell_type": "code",
   "execution_count": 15,
   "id": "eb57c4aa",
   "metadata": {},
   "outputs": [
    {
     "data": {
      "text/plain": [
       "(25, 75, 50, 100, 86, 95)"
      ]
     },
     "execution_count": 15,
     "metadata": {},
     "output_type": "execute_result"
    }
   ],
   "source": [
    "t"
   ]
  },
  {
   "cell_type": "code",
   "execution_count": 16,
   "id": "7f4d00f1",
   "metadata": {},
   "outputs": [
    {
     "data": {
      "text/plain": [
       "[25, 50, 75, 86, 95, 100]"
      ]
     },
     "execution_count": 16,
     "metadata": {},
     "output_type": "execute_result"
    }
   ],
   "source": [
    "sorted(t)"
   ]
  },
  {
   "cell_type": "code",
   "execution_count": 17,
   "id": "e1e0861d",
   "metadata": {},
   "outputs": [
    {
     "data": {
      "text/plain": [
       "list"
      ]
     },
     "execution_count": 17,
     "metadata": {},
     "output_type": "execute_result"
    }
   ],
   "source": [
    "type(sorted(t))"
   ]
  },
  {
   "cell_type": "raw",
   "id": "c81ba6ed",
   "metadata": {},
   "source": [
    "6.Min"
   ]
  },
  {
   "cell_type": "code",
   "execution_count": 18,
   "id": "973df7bf",
   "metadata": {},
   "outputs": [
    {
     "name": "stdout",
     "output_type": "stream",
     "text": [
      "min_value: 25\n"
     ]
    }
   ],
   "source": [
    "t = (25,75,50,100,86,95)\n",
    "def minimum_value(t):\n",
    "    print(\"min_value:\",min(t))\n",
    "minimum_value(t)"
   ]
  },
  {
   "cell_type": "raw",
   "id": "b6aec808",
   "metadata": {},
   "source": [
    "7. Max"
   ]
  },
  {
   "cell_type": "code",
   "execution_count": 19,
   "id": "aa5e6af3",
   "metadata": {},
   "outputs": [
    {
     "name": "stdout",
     "output_type": "stream",
     "text": [
      "max_value: 25\n"
     ]
    }
   ],
   "source": [
    "t = (25,75,50,100,86,95)\n",
    "def maximum_value(t):\n",
    "    print(\"max_value:\",ma(t))\n",
    "maximum_value(t)"
   ]
  },
  {
   "cell_type": "code",
   "execution_count": null,
   "id": "6e7ddb66",
   "metadata": {},
   "outputs": [],
   "source": []
  }
 ],
 "metadata": {
  "kernelspec": {
   "display_name": "Python 3 (ipykernel)",
   "language": "python",
   "name": "python3"
  },
  "language_info": {
   "codemirror_mode": {
    "name": "ipython",
    "version": 3
   },
   "file_extension": ".py",
   "mimetype": "text/x-python",
   "name": "python",
   "nbconvert_exporter": "python",
   "pygments_lexer": "ipython3",
   "version": "3.9.12"
  }
 },
 "nbformat": 4,
 "nbformat_minor": 5
}
