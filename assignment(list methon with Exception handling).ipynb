{
 "cells": [
  {
   "cell_type": "markdown",
   "id": "dba26332",
   "metadata": {},
   "source": [
    "we creat the list"
   ]
  },
  {
   "cell_type": "code",
   "execution_count": 1,
   "id": "2b57e938",
   "metadata": {},
   "outputs": [],
   "source": [
    "l =[10,20,30,40,\"python\",50,60]"
   ]
  },
  {
   "cell_type": "code",
   "execution_count": 2,
   "id": "0d1bae98",
   "metadata": {},
   "outputs": [
    {
     "data": {
      "text/plain": [
       "[10, 20, 30, 40, 'python', 50, 60]"
      ]
     },
     "execution_count": 2,
     "metadata": {},
     "output_type": "execute_result"
    }
   ],
   "source": [
    "l"
   ]
  },
  {
   "cell_type": "markdown",
   "id": "c12d324b",
   "metadata": {},
   "source": [
    "this show which type of class is there"
   ]
  },
  {
   "cell_type": "code",
   "execution_count": 3,
   "id": "71da3eb2",
   "metadata": {},
   "outputs": [
    {
     "name": "stdout",
     "output_type": "stream",
     "text": [
      "<class 'list'>\n"
     ]
    }
   ],
   "source": [
    "try:\n",
    "    print(type(l))\n",
    "except Exception as e:\n",
    "    print(e)"
   ]
  },
  {
   "cell_type": "markdown",
   "id": "73e89161",
   "metadata": {},
   "source": [
    "it show the the type of variable"
   ]
  },
  {
   "cell_type": "code",
   "execution_count": 7,
   "id": "a02dd167",
   "metadata": {},
   "outputs": [
    {
     "name": "stdout",
     "output_type": "stream",
     "text": [
      "name 'variable_name' is not defined\n"
     ]
    }
   ],
   "source": [
    "def var_type(variable_name):\n",
    "    \"This function will return varible datatype\"\n",
    "try:\n",
    "    print(type(variable_name))\n",
    "except Exception as e:\n",
    "        print(e)"
   ]
  },
  {
   "cell_type": "markdown",
   "id": "e5eef51d",
   "metadata": {},
   "source": [
    "it show the length of the list"
   ]
  },
  {
   "cell_type": "code",
   "execution_count": 8,
   "id": "088b05fe",
   "metadata": {},
   "outputs": [
    {
     "data": {
      "text/plain": [
       "7"
      ]
     },
     "execution_count": 8,
     "metadata": {},
     "output_type": "execute_result"
    }
   ],
   "source": [
    "len(l)"
   ]
  },
  {
   "cell_type": "code",
   "execution_count": 10,
   "id": "b2cbbcb9",
   "metadata": {},
   "outputs": [
    {
     "name": "stdout",
     "output_type": "stream",
     "text": [
      "7\n"
     ]
    }
   ],
   "source": [
    "def var_len(variable_name):\n",
    "    try:\n",
    "        print(len(variable_name))\n",
    "    except Exception as e:\n",
    "        print(e)\n",
    "var_len(l)"
   ]
  },
  {
   "cell_type": "markdown",
   "id": "7980c574",
   "metadata": {},
   "source": [
    "it gives the value min"
   ]
  },
  {
   "cell_type": "code",
   "execution_count": 11,
   "id": "13216241",
   "metadata": {},
   "outputs": [],
   "source": [
    "l1 = [10,20,30,40,50]\n",
    "def var_min(variable_name):\n",
    "    try:\n",
    "        print(min(variable_name))\n",
    "    except Exception as e:\n",
    "        print(e)"
   ]
  },
  {
   "cell_type": "code",
   "execution_count": 12,
   "id": "ac74ff93",
   "metadata": {},
   "outputs": [
    {
     "name": "stdout",
     "output_type": "stream",
     "text": [
      "10\n"
     ]
    }
   ],
   "source": [
    "var_min(l1)"
   ]
  },
  {
   "cell_type": "markdown",
   "id": "03c7fb03",
   "metadata": {},
   "source": [
    "it gives the value max"
   ]
  },
  {
   "cell_type": "code",
   "execution_count": 13,
   "id": "ce257d89",
   "metadata": {},
   "outputs": [
    {
     "name": "stdout",
     "output_type": "stream",
     "text": [
      "50\n"
     ]
    }
   ],
   "source": [
    "def var_max(variable_name):\n",
    "    try:\n",
    "        print(max(variable_name))\n",
    "    except Exception as e:\n",
    "        print(e)\n",
    "var_max(l1)"
   ]
  },
  {
   "cell_type": "markdown",
   "id": "131eefff",
   "metadata": {},
   "source": [
    "here we create a new list"
   ]
  },
  {
   "cell_type": "code",
   "execution_count": 14,
   "id": "fc659db5",
   "metadata": {},
   "outputs": [],
   "source": [
    "l1 = [\"python\", \"data\", \"Google\",\"java\"]"
   ]
  },
  {
   "cell_type": "code",
   "execution_count": 15,
   "id": "3288f786",
   "metadata": {},
   "outputs": [
    {
     "data": {
      "text/plain": [
       "['python', 'data', 'Google', 'java']"
      ]
     },
     "execution_count": 15,
     "metadata": {},
     "output_type": "execute_result"
    }
   ],
   "source": [
    "l1"
   ]
  },
  {
   "cell_type": "code",
   "execution_count": 17,
   "id": "a8def1fb",
   "metadata": {},
   "outputs": [
    {
     "name": "stdout",
     "output_type": "stream",
     "text": [
      "Google\n"
     ]
    }
   ],
   "source": [
    "def var_min(variable_name):\n",
    "    try:\n",
    "        print(min(variable_name))\n",
    "    except Exception as e:\n",
    "        print(e)\n",
    "var_min(l1)"
   ]
  },
  {
   "cell_type": "code",
   "execution_count": 18,
   "id": "0b2cc947",
   "metadata": {},
   "outputs": [
    {
     "name": "stdout",
     "output_type": "stream",
     "text": [
      "python\n"
     ]
    }
   ],
   "source": [
    "def var_max(variable_name):\n",
    "    try:\n",
    "        print(max(variable_name))\n",
    "    except Exception as e:\n",
    "        print(e)\n",
    "var_max(l1)"
   ]
  },
  {
   "cell_type": "markdown",
   "id": "08879789",
   "metadata": {},
   "source": [
    "this function add the new variable"
   ]
  },
  {
   "cell_type": "code",
   "execution_count": 20,
   "id": "f8252fd9",
   "metadata": {},
   "outputs": [],
   "source": [
    "def append(variable_name,element):\n",
    "    try:\n",
    "        variable_name.append(element)\n",
    "        print(variable_name)\n",
    "    except Exception as e:\n",
    "        print(e)\n"
   ]
  },
  {
   "cell_type": "code",
   "execution_count": 26,
   "id": "b653beea",
   "metadata": {},
   "outputs": [
    {
     "name": "stdout",
     "output_type": "stream",
     "text": [
      "['python', 'data', 'Google', 'java', 'datascience c++', 'datascience c c++']\n"
     ]
    }
   ],
   "source": [
    "append(l1,\"datascience c c++\")"
   ]
  },
  {
   "cell_type": "code",
   "execution_count": 38,
   "id": "238f73e9",
   "metadata": {},
   "outputs": [],
   "source": [
    "l =[10,20,30,40,\"python\",50,60,30]"
   ]
  },
  {
   "cell_type": "markdown",
   "id": "9b5eec6e",
   "metadata": {},
   "source": [
    "we see the number of value"
   ]
  },
  {
   "cell_type": "code",
   "execution_count": 39,
   "id": "5ebeaada",
   "metadata": {},
   "outputs": [
    {
     "data": {
      "text/plain": [
       "2"
      ]
     },
     "execution_count": 39,
     "metadata": {},
     "output_type": "execute_result"
    }
   ],
   "source": [
    "l.count(30)"
   ]
  },
  {
   "cell_type": "markdown",
   "id": "e97dd81b",
   "metadata": {},
   "source": [
    "this show the element is in which index"
   ]
  },
  {
   "cell_type": "code",
   "execution_count": 51,
   "id": "da630ec0",
   "metadata": {},
   "outputs": [],
   "source": [
    "def index(variable_name,element):\n",
    "    try:\n",
    "        \n",
    "        print(variable_name.index(element))\n",
    "    except Exception as e:\n",
    "        print(e)"
   ]
  },
  {
   "cell_type": "code",
   "execution_count": 52,
   "id": "f35a02d4",
   "metadata": {},
   "outputs": [
    {
     "name": "stdout",
     "output_type": "stream",
     "text": [
      "1\n"
     ]
    }
   ],
   "source": [
    "index(l,20)"
   ]
  },
  {
   "cell_type": "code",
   "execution_count": null,
   "id": "00189101",
   "metadata": {},
   "outputs": [],
   "source": [
    "count function"
   ]
  },
  {
   "cell_type": "code",
   "execution_count": 53,
   "id": "8a440dd6",
   "metadata": {},
   "outputs": [],
   "source": [
    "def count(variable_name,element):\n",
    "    try:\n",
    "        \n",
    "        print(variable_name.count(element))\n",
    "    except Exception as e:\n",
    "        print(e)"
   ]
  },
  {
   "cell_type": "code",
   "execution_count": 54,
   "id": "1b3f9a84",
   "metadata": {},
   "outputs": [
    {
     "name": "stdout",
     "output_type": "stream",
     "text": [
      "2\n"
     ]
    }
   ],
   "source": [
    "count(l,30)"
   ]
  },
  {
   "cell_type": "markdown",
   "id": "1676d794",
   "metadata": {},
   "source": [
    "Extend list"
   ]
  },
  {
   "cell_type": "code",
   "execution_count": 61,
   "id": "548fe1b8",
   "metadata": {},
   "outputs": [],
   "source": [
    "l = [10,20,45,34]"
   ]
  },
  {
   "cell_type": "code",
   "execution_count": 64,
   "id": "ff9e1587",
   "metadata": {},
   "outputs": [],
   "source": [
    "def extend(variable_name,element):\n",
    "    \"Extend element in the list\"\n",
    "    try:\n",
    "        variable_name.extend(element)\n",
    "        print(variable_name)\n",
    "    except Exception as e:\n",
    "        print(e)"
   ]
  },
  {
   "cell_type": "code",
   "execution_count": 65,
   "id": "ad529e91",
   "metadata": {},
   "outputs": [
    {
     "name": "stdout",
     "output_type": "stream",
     "text": [
      "[10, 20, 45, 34, 23, 67, 23, 67]\n"
     ]
    }
   ],
   "source": [
    "extend(l,[23,67])\n"
   ]
  },
  {
   "cell_type": "markdown",
   "id": "5e7e1bca",
   "metadata": {},
   "source": [
    "remove the element"
   ]
  },
  {
   "cell_type": "code",
   "execution_count": 67,
   "id": "cc4f62d4",
   "metadata": {},
   "outputs": [],
   "source": [
    "def remove(variable_name,element):\n",
    "    \"remove element in the list\"\n",
    "    try:\n",
    "        variable_name.remove(element)\n",
    "        print(variable_name)\n",
    "    except Exception as e:\n",
    "        print(e)"
   ]
  },
  {
   "cell_type": "code",
   "execution_count": 68,
   "id": "77295252",
   "metadata": {},
   "outputs": [
    {
     "name": "stdout",
     "output_type": "stream",
     "text": [
      "[10, 20, 34, 23, 67, 23, 67]\n"
     ]
    }
   ],
   "source": [
    "remove(l,45)"
   ]
  },
  {
   "cell_type": "code",
   "execution_count": null,
   "id": "243ac46a",
   "metadata": {},
   "outputs": [],
   "source": []
  }
 ],
 "metadata": {
  "kernelspec": {
   "display_name": "Python 3 (ipykernel)",
   "language": "python",
   "name": "python3"
  },
  "language_info": {
   "codemirror_mode": {
    "name": "ipython",
    "version": 3
   },
   "file_extension": ".py",
   "mimetype": "text/x-python",
   "name": "python",
   "nbconvert_exporter": "python",
   "pygments_lexer": "ipython3",
   "version": "3.9.12"
  }
 },
 "nbformat": 4,
 "nbformat_minor": 5
}
