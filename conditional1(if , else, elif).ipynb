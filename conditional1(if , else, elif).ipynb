{
 "cells": [
  {
   "cell_type": "code",
   "execution_count": null,
   "id": "080803a6",
   "metadata": {},
   "outputs": [],
   "source": [
    "their are two types statement\n",
    "1.conditional statement\n",
    "2.transfer/loop statement"
   ]
  },
  {
   "cell_type": "code",
   "execution_count": null,
   "id": "cc8e1bde",
   "metadata": {},
   "outputs": [],
   "source": [
    "when their are one conditionalthen we use if \n",
    "when their are two conditionalthen we use if else\n",
    "when their are multiple  conditionalthen we use if   elif else "
   ]
  },
  {
   "cell_type": "code",
   "execution_count": null,
   "id": "cfb17d53",
   "metadata": {},
   "outputs": [],
   "source": [
    "if , if else ,if elif else"
   ]
  },
  {
   "cell_type": "raw",
   "id": "06d8f613",
   "metadata": {},
   "source": [
    "a=10\n",
    "if condition:\n",
    "    execution"
   ]
  },
  {
   "cell_type": "code",
   "execution_count": 1,
   "id": "e400c897",
   "metadata": {},
   "outputs": [
    {
     "name": "stdout",
     "output_type": "stream",
     "text": [
      "A is positive number\n"
     ]
    }
   ],
   "source": [
    "a=10\n",
    "if a>0:\n",
    "    print(\"A is positive number\")"
   ]
  },
  {
   "cell_type": "code",
   "execution_count": 2,
   "id": "c2e36e37",
   "metadata": {},
   "outputs": [
    {
     "name": "stdout",
     "output_type": "stream",
     "text": [
      "A is negative number\n"
     ]
    }
   ],
   "source": [
    "a=-10\n",
    "if a>0:\n",
    "    print(\"A is positive number\")\n",
    "else:\n",
    "    print(\"A is negative number\")"
   ]
  },
  {
   "cell_type": "code",
   "execution_count": 3,
   "id": "42da5477",
   "metadata": {},
   "outputs": [
    {
     "name": "stdout",
     "output_type": "stream",
     "text": [
      "A is zero\n"
     ]
    }
   ],
   "source": [
    "a=0\n",
    "if a>0:\n",
    "    print(\"A is positive number\")\n",
    "elif a==0:\n",
    "    print(\"A is zero\")\n",
    "else:\n",
    "    print(\"A is negative number\")"
   ]
  },
  {
   "cell_type": "code",
   "execution_count": 4,
   "id": "51ed63ff",
   "metadata": {},
   "outputs": [
    {
     "name": "stdout",
     "output_type": "stream",
     "text": [
      "Enter a number45\n",
      "A is positive \n"
     ]
    }
   ],
   "source": [
    "a = int(input(\"Enter a number\"))\n",
    "if a>0:\n",
    "    print(\"A is positive \")\n",
    "elif a==0:\n",
    "    print(\"A is zero\")\n",
    "    \n",
    "else:\n",
    "    print(\"A is negative\")"
   ]
  },
  {
   "cell_type": "code",
   "execution_count": 5,
   "id": "353fce72",
   "metadata": {},
   "outputs": [
    {
     "name": "stdout",
     "output_type": "stream",
     "text": [
      "Enter a number-24\n",
      "A is negative\n"
     ]
    }
   ],
   "source": [
    "  a = int(input(\"Enter a number\"))\n",
    "if a>0:\n",
    "    print(\"A is positive \")\n",
    "elif a==0:\n",
    "    print(\"A is zero\")\n",
    "    \n",
    "else:\n",
    "    print(\"A is negative\")"
   ]
  },
  {
   "cell_type": "code",
   "execution_count": 6,
   "id": "55ff33fb",
   "metadata": {},
   "outputs": [
    {
     "name": "stdout",
     "output_type": "stream",
     "text": [
      "Enter a number0\n",
      "A is zero\n"
     ]
    }
   ],
   "source": [
    "  a = int(input(\"Enter a number\"))\n",
    "if a< 0:\n",
    "    print(\"A is positive \")\n",
    "elif a==0:\n",
    "    print(\"A is zero\")\n",
    "    \n",
    "else:\n",
    "    print(\"A is negative\")"
   ]
  },
  {
   "cell_type": "code",
   "execution_count": 7,
   "id": "982a5a0b",
   "metadata": {},
   "outputs": [
    {
     "name": "stdout",
     "output_type": "stream",
     "text": [
      "Enter a number-34\n",
      "A is positive \n"
     ]
    }
   ],
   "source": [
    " a = int(input(\"Enter a number\"))\n",
    "if a< 0:\n",
    "    print(\"A is positive \")\n",
    "elif a==0:\n",
    "    print(\"A is zero\")\n",
    "    \n",
    "else:\n",
    "    print(\"A is negative\")"
   ]
  },
  {
   "cell_type": "code",
   "execution_count": 8,
   "id": "e1a547bd",
   "metadata": {},
   "outputs": [
    {
     "name": "stdout",
     "output_type": "stream",
     "text": [
      "Enter a number67\n",
      "A is positive number : \n"
     ]
    }
   ],
   "source": [
    "positive_number = []\n",
    "negative_number = []\n",
    "\n",
    "a = int(input(\"Enter a number\"))\n",
    "if a>0:\n",
    "    positive_number.append(a)\n",
    "    print(\"A is positive number : \")\n",
    "elif a==0:\n",
    "    print(\"A is zero\")\n",
    "    \n",
    "else:\n",
    "    negative_number.append(a)\n",
    "    print(\"A is negative\")"
   ]
  },
  {
   "cell_type": "code",
   "execution_count": 9,
   "id": "99720457",
   "metadata": {},
   "outputs": [
    {
     "data": {
      "text/plain": [
       "[67]"
      ]
     },
     "execution_count": 9,
     "metadata": {},
     "output_type": "execute_result"
    }
   ],
   "source": [
    "positive_number"
   ]
  },
  {
   "cell_type": "code",
   "execution_count": 10,
   "id": "11562a45",
   "metadata": {},
   "outputs": [
    {
     "name": "stdout",
     "output_type": "stream",
     "text": [
      "Enter a number-78\n",
      "A is negative\n"
     ]
    }
   ],
   "source": [
    "positive_number = []\n",
    "negative_number = []\n",
    "\n",
    "a = int(input(\"Enter a number\"))\n",
    "if a>0:\n",
    "    positive_number.append(a)\n",
    "    print(\"A is positive number : \")\n",
    "elif a==0:\n",
    "    print(\"A is zero\")\n",
    "    \n",
    "else:\n",
    "    negative_number.append(a)\n",
    "    print(\"A is negative\")"
   ]
  },
  {
   "cell_type": "code",
   "execution_count": 11,
   "id": "fc10ef0c",
   "metadata": {},
   "outputs": [
    {
     "data": {
      "text/plain": [
       "[-78]"
      ]
     },
     "execution_count": 11,
     "metadata": {},
     "output_type": "execute_result"
    }
   ],
   "source": [
    "negative_number"
   ]
  },
  {
   "cell_type": "code",
   "execution_count": 12,
   "id": "9b1281fe",
   "metadata": {},
   "outputs": [
    {
     "name": "stdout",
     "output_type": "stream",
     "text": [
      "Enter a number7\n",
      "This is odd number\n"
     ]
    }
   ],
   "source": [
    "a=int(input(\"Enter a number\"))\n",
    "if a % 2 ==0:\n",
    "    print(\"This is even number\")\n",
    "else:\n",
    "    print(\"This is odd number\")"
   ]
  },
  {
   "cell_type": "code",
   "execution_count": 13,
   "id": "40076256",
   "metadata": {},
   "outputs": [
    {
     "name": "stdout",
     "output_type": "stream",
     "text": [
      "Enter a number2\n",
      "This is even number\n"
     ]
    }
   ],
   "source": [
    "a=int(input(\"Enter a number\"))\n",
    "if a % 2 ==0:\n",
    "    print(\"This is even number\")\n",
    "else:\n",
    "    print(\"This is odd number\")"
   ]
  },
  {
   "cell_type": "code",
   "execution_count": 14,
   "id": "244d84d3",
   "metadata": {},
   "outputs": [
    {
     "name": "stdout",
     "output_type": "stream",
     "text": [
      "Enter a number3\n",
      "This is odd number\n"
     ]
    }
   ],
   "source": [
    "a=int(input(\"Enter a number\"))\n",
    "if a % 2 !=0:\n",
    "    print(\"This is odd number\")\n",
    "else:\n",
    "    print(\"This is even number\")"
   ]
  },
  {
   "cell_type": "code",
   "execution_count": 15,
   "id": "a919f354",
   "metadata": {},
   "outputs": [
    {
     "name": "stdout",
     "output_type": "stream",
     "text": [
      "A is greater\n"
     ]
    }
   ],
   "source": [
    "a =12\n",
    "b =11\n",
    "if a > b: print(\"A is greater\")"
   ]
  },
  {
   "cell_type": "code",
   "execution_count": 16,
   "id": "91772bcd",
   "metadata": {},
   "outputs": [
    {
     "name": "stdout",
     "output_type": "stream",
     "text": [
      "A is smaller\n"
     ]
    }
   ],
   "source": [
    "a =12\n",
    "b =11\n",
    "if a> b: print(\"A is smaller\") "
   ]
  },
  {
   "cell_type": "code",
   "execution_count": 17,
   "id": "b8e7ed44",
   "metadata": {},
   "outputs": [
    {
     "name": "stdout",
     "output_type": "stream",
     "text": [
      "B is greater\n"
     ]
    }
   ],
   "source": [
    "a=12\n",
    "b=24\n",
    "print(\"A is greater\")if a>b else print(\"B is greater\")"
   ]
  },
  {
   "cell_type": "code",
   "execution_count": 18,
   "id": "c9215861",
   "metadata": {},
   "outputs": [
    {
     "name": "stdout",
     "output_type": "stream",
     "text": [
      " A is lower\n"
     ]
    }
   ],
   "source": [
    " a = 13 \n",
    "b=45\n",
    "print(\" A is lower\") if a<b else print(\"B is lower\")"
   ]
  },
  {
   "cell_type": "code",
   "execution_count": 19,
   "id": "d6deccde",
   "metadata": {},
   "outputs": [
    {
     "name": "stdout",
     "output_type": "stream",
     "text": [
      "Enter a number :-89\n",
      "A is positive\n"
     ]
    }
   ],
   "source": [
    "a = int(input(\"Enter a number :\"))\n",
    "if a <= 0:\n",
    "    if a<0:\n",
    "        print(\"A is positive\")\n",
    "    else:\n",
    "        print(\"A is zero\")                                                                      \n",
    "else:\n",
    "    print(\"A is negative\")\n",
    "    "
   ]
  },
  {
   "cell_type": "code",
   "execution_count": 20,
   "id": "5e3aefa6",
   "metadata": {},
   "outputs": [
    {
     "name": "stdout",
     "output_type": "stream",
     "text": [
      "Enter a number :65\n",
      "A is negative\n"
     ]
    }
   ],
   "source": [
    "a = int(input(\"Enter a number :\"))\n",
    "if a <= 0:\n",
    "    if a<0:\n",
    "        print(\"A is positive\")\n",
    "    else:\n",
    "        print(\"A is zero\")                                                                      \n",
    "else:\n",
    "    print(\"A is negative\")\n",
    "    "
   ]
  },
  {
   "cell_type": "code",
   "execution_count": 21,
   "id": "6bfd526b",
   "metadata": {
    "scrolled": true
   },
   "outputs": [
    {
     "name": "stdout",
     "output_type": "stream",
     "text": [
      "Enter a number :0\n",
      "A is zero\n"
     ]
    }
   ],
   "source": [
    "a = int(input(\"Enter a number :\"))\n",
    "if a <= 0:\n",
    "    if a<0:\n",
    "        print(\"A is positive\")\n",
    "    else:\n",
    "        print(\"A is zero\")                                                                      \n",
    "else:\n",
    "    print(\"A is negative\")\n",
    "    "
   ]
  },
  {
   "cell_type": "code",
   "execution_count": 22,
   "id": "afa5bd01",
   "metadata": {},
   "outputs": [],
   "source": [
    "a = 100\n",
    "b = 33\n",
    "if a > b:        \n",
    "    pass    "
   ]
  },
  {
   "cell_type": "code",
   "execution_count": 23,
   "id": "d3a63943",
   "metadata": {},
   "outputs": [
    {
     "name": "stdout",
     "output_type": "stream",
     "text": [
      "Enter a number :28.9\n",
      "A  is positive\n"
     ]
    }
   ],
   "source": [
    "a = float(input(\"Enter a number :\"))\n",
    "if a >0:\n",
    "    print(\"A  is positive\")\n",
    "else:\n",
    "    print(\"A is negative\")\n",
    "    "
   ]
  },
  {
   "cell_type": "code",
   "execution_count": 24,
   "id": "d65811d1",
   "metadata": {},
   "outputs": [
    {
     "name": "stdout",
     "output_type": "stream",
     "text": [
      "Enter a number :-89.5\n",
      "A is negative\n"
     ]
    }
   ],
   "source": [
    "a = float(input(\"Enter a number :\"))\n",
    "if a >0:\n",
    "    print(\"A  is positive\")\n",
    "\n",
    "elif a==0:\n",
    "    print( \" A is zero\")\n",
    "    \n",
    "else:\n",
    "    print(\"A is negative\")"
   ]
  },
  {
   "cell_type": "code",
   "execution_count": 25,
   "id": "963ba6da",
   "metadata": {},
   "outputs": [
    {
     "name": "stdout",
     "output_type": "stream",
     "text": [
      "Enter a number :0\n",
      " A is zero\n"
     ]
    }
   ],
   "source": [
    "a = float(input(\"Enter a number :\"))\n",
    "if a >0:\n",
    "    print(\"A  is positive\")\n",
    "\n",
    "elif a==0:\n",
    "    print( \" A is zero\")\n",
    "    \n",
    "else:\n",
    "    print(\"A is negative\")"
   ]
  },
  {
   "cell_type": "code",
   "execution_count": 26,
   "id": "96c4ee94",
   "metadata": {},
   "outputs": [
    {
     "name": "stdout",
     "output_type": "stream",
     "text": [
      "Enter a number :-56.8\n",
      "A is negative\n"
     ]
    }
   ],
   "source": [
    "a = float(input(\"Enter a number :\"))\n",
    "if a >0:\n",
    "    print(\"A  is positive\")\n",
    "\n",
    "elif a==0:\n",
    "    print( \" A is zero\")\n",
    "    \n",
    "else:\n",
    "    print(\"A is negative\")"
   ]
  },
  {
   "cell_type": "code",
   "execution_count": null,
   "id": "ca26759b",
   "metadata": {},
   "outputs": [],
   "source": []
  }
 ],
 "metadata": {
  "kernelspec": {
   "display_name": "Python 3 (ipykernel)",
   "language": "python",
   "name": "python3"
  },
  "language_info": {
   "codemirror_mode": {
    "name": "ipython",
    "version": 3
   },
   "file_extension": ".py",
   "mimetype": "text/x-python",
   "name": "python",
   "nbconvert_exporter": "python",
   "pygments_lexer": "ipython3",
   "version": "3.9.12"
  }
 },
 "nbformat": 4,
 "nbformat_minor": 5
}
