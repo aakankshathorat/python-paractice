{
 "cells": [
  {
   "cell_type": "code",
   "execution_count": 1,
   "id": "7f15ea3a",
   "metadata": {},
   "outputs": [],
   "source": [
    "a = 23\n",
    "b = 34 \n",
    "if a > b :\n",
    "    pass"
   ]
  },
  {
   "cell_type": "code",
   "execution_count": 2,
   "id": "25ebcfc7",
   "metadata": {},
   "outputs": [],
   "source": [
    "l = [1,2,3,6,5,7,8,4]"
   ]
  },
  {
   "cell_type": "code",
   "execution_count": 3,
   "id": "75563b4d",
   "metadata": {},
   "outputs": [
    {
     "data": {
      "text/plain": [
       "[1, 2, 3, 6, 5, 7, 8, 4]"
      ]
     },
     "execution_count": 3,
     "metadata": {},
     "output_type": "execute_result"
    }
   ],
   "source": [
    "l"
   ]
  },
  {
   "cell_type": "code",
   "execution_count": 4,
   "id": "bcc841a7",
   "metadata": {},
   "outputs": [
    {
     "data": {
      "text/plain": [
       "True"
      ]
     },
     "execution_count": 4,
     "metadata": {},
     "output_type": "execute_result"
    }
   ],
   "source": [
    "6 in l        "
   ]
  },
  {
   "cell_type": "code",
   "execution_count": 5,
   "id": "0f12d41c",
   "metadata": {},
   "outputs": [
    {
     "name": "stdout",
     "output_type": "stream",
     "text": [
      "Element is present \n"
     ]
    }
   ],
   "source": [
    "if 3 in l:\n",
    "    print (\"Element is present \")"
   ]
  },
  {
   "cell_type": "code",
   "execution_count": 6,
   "id": "8d7fc609",
   "metadata": {},
   "outputs": [
    {
     "name": "stdout",
     "output_type": "stream",
     "text": [
      "Element is absent\n"
     ]
    }
   ],
   "source": [
    "if 9 in l:\n",
    "    print (\"Element is present\")\n",
    "else:\n",
    "    print(\"Element is absent\")"
   ]
  },
  {
   "cell_type": "code",
   "execution_count": 9,
   "id": "791ce9e2",
   "metadata": {},
   "outputs": [
    {
     "name": "stdout",
     "output_type": "stream",
     "text": [
      "add the number\n"
     ]
    }
   ],
   "source": [
    "if 2 in l:\n",
    "    print(\"add the number\")\n",
    "elif 3 in l:\n",
    "    print(\"Element is present\")\n",
    "else:\n",
    "    print(\"try again\")"
   ]
  },
  {
   "cell_type": "code",
   "execution_count": 7,
   "id": "35383108",
   "metadata": {},
   "outputs": [
    {
     "name": "stdout",
     "output_type": "stream",
     "text": [
      "Enter a number17\n",
      "A is greater than 10\n",
      " A is greater than 10 but less than 20\n"
     ]
    }
   ],
   "source": [
    "a = int(input(\"Enter a number\"))\n",
    "if a > 10:\n",
    "    print(\"A is greater than 10\")\n",
    "    if a > 20:\n",
    "        print(\"A is greater than 20\")\n",
    "        if a > 30:\n",
    "            print (\"A is greater than 30\")\n",
    "        else:\n",
    "            print (\" A is greater than 20 but less than 30\")\n",
    "        \n",
    "      \n",
    "    else:\n",
    "         print (\" A is greater than 10 but less than 20\")\n",
    "else: \n",
    "    print(\" A is smaller\") "
   ]
  },
  {
   "cell_type": "code",
   "execution_count": 8,
   "id": "cb1b0d3c",
   "metadata": {},
   "outputs": [
    {
     "name": "stdout",
     "output_type": "stream",
     "text": [
      "Enter a number25\n",
      "A is greater than 10\n",
      "A is greater than 20\n",
      " A is greater than 20 but less than 30\n"
     ]
    }
   ],
   "source": [
    "a = int(input(\"Enter a number\"))\n",
    "if a > 10:\n",
    "    print(\"A is greater than 10\")\n",
    "    if a > 20:\n",
    "        print(\"A is greater than 20\")\n",
    "        if a > 30:\n",
    "            print (\"A is greater than 30\")\n",
    "        else:\n",
    "            print (\" A is greater than 20 but less than 30\")\n",
    "        \n",
    "      \n",
    "    else:\n",
    "         print (\" A is greater than 10 but less than 20\")\n",
    "else: \n",
    "    print(\" A is smaller\")"
   ]
  },
  {
   "cell_type": "code",
   "execution_count": 9,
   "id": "44ba1c92",
   "metadata": {},
   "outputs": [
    {
     "name": "stdout",
     "output_type": "stream",
     "text": [
      "Enter a number5\n",
      " A is smaller\n"
     ]
    }
   ],
   "source": [
    "a = int(input(\"Enter a number\"))\n",
    "if a > 10:\n",
    "    print(\"A is greater than 10\")\n",
    "    if a > 20:\n",
    "        print(\"A is greater than 20\")\n",
    "        if a > 30:\n",
    "            print (\"A is greater than 30\")\n",
    "        else:\n",
    "            print (\" A is greater than 20 but less than 30\")\n",
    "        \n",
    "      \n",
    "    else:\n",
    "         print (\" A is greater than 10 but less than 20\")\n",
    "else: \n",
    "    print(\" A is smaller\")"
   ]
  },
  {
   "cell_type": "code",
   "execution_count": 10,
   "id": "f0660bb6",
   "metadata": {},
   "outputs": [
    {
     "name": "stdout",
     "output_type": "stream",
     "text": [
      "Enter a number35\n",
      "A is greater than 10\n",
      "A is greater than 20\n",
      "A is greater than 30\n"
     ]
    }
   ],
   "source": [
    "a = int(input(\"Enter a number\"))\n",
    "if a > 10:\n",
    "    print(\"A is greater than 10\")\n",
    "    if a > 20:\n",
    "        print(\"A is greater than 20\")\n",
    "        if a > 30:\n",
    "            print (\"A is greater than 30\")\n",
    "        else:\n",
    "            print (\" A is greater than 20 but less than 30\")\n",
    "        \n",
    "      \n",
    "    else:\n",
    "         print (\" A is greater than 10 but less than 20\")\n",
    "else: \n",
    "    print(\" A is smaller\")"
   ]
  },
  {
   "cell_type": "code",
   "execution_count": 11,
   "id": "2ed6543b",
   "metadata": {},
   "outputs": [
    {
     "name": "stdout",
     "output_type": "stream",
     "text": [
      " Enter your usernameabc\n",
      "user verified\n"
     ]
    }
   ],
   "source": [
    "username = input(\" Enter your username\")\n",
    "if username == \"abc\"  her we add two condition:\n",
    "    print(\"user verified\")\n",
    "else:\n",
    "    print(\"Enter valid username\")"
   ]
  },
  {
   "cell_type": "code",
   "execution_count": 12,
   "id": "8722e59e",
   "metadata": {},
   "outputs": [
    {
     "name": "stdout",
     "output_type": "stream",
     "text": [
      " Enter your usernameAbc\n",
      "Enter valid username\n"
     ]
    }
   ],
   "source": [
    "username = input(\" Enter your username\")\n",
    "if username == \"abc\" or username == \"abc\":\n",
    "    print(\"user verified\")\n",
    "else:\n",
    "    print(\"Enter valid username\")"
   ]
  },
  {
   "cell_type": "code",
   "execution_count": 14,
   "id": "c2cbc8ca",
   "metadata": {},
   "outputs": [
    {
     "name": "stdout",
     "output_type": "stream",
     "text": [
      " Enter your usernameAbc\n",
      "Enter ypur password:1234567\n",
      "Enter valid username\n"
     ]
    }
   ],
   "source": [
    "username = input(\" Enter your username\")\n",
    "password = int(input(\"Enter ypur password:\"))\n",
    "if username == \"abc\" and password == 1234567:\n",
    "    print(\"user verified\")\n",
    "else:\n",
    "    print(\"Enter valid username\")"
   ]
  },
  {
   "cell_type": "code",
   "execution_count": 19,
   "id": "f98a94a3",
   "metadata": {},
   "outputs": [
    {
     "name": "stdout",
     "output_type": "stream",
     "text": [
      " Enter your usernameABC\n",
      "Enter ypur password:1234567\n",
      "logged in\n"
     ]
    }
   ],
   "source": [
    "username = input(\" Enter your username\")\n",
    "password = int(input(\"Enter ypur password:\"))\n",
    "username = username.lower()\n",
    "if username == \"abc\" and password == 1234567:\n",
    "    print(\"logged in\")\n",
    "else:\n",
    "    print(\"Enter valid username\")"
   ]
  },
  {
   "cell_type": "code",
   "execution_count": 18,
   "id": "edccb63e",
   "metadata": {},
   "outputs": [
    {
     "name": "stdout",
     "output_type": "stream",
     "text": [
      " Enter your usernameABC\n",
      "Enter ypur password:1234567\n",
      "logged in\n"
     ]
    }
   ],
   "source": [
    "username = input(\" Enter your username\")\n",
    "password = int(input(\"Enter ypur password:\"))\n",
    "username = username.upper()\n",
    "if username == \"ABC\" and password == 1234567:\n",
    "    print(\"logged in\")\n",
    "else:\n",
    "    print(\"Enter valid username\")"
   ]
  },
  {
   "cell_type": "markdown",
   "id": "5cc774ca",
   "metadata": {},
   "source": [
    " type(),len()"
   ]
  },
  {
   "cell_type": "code",
   "execution_count": 21,
   "id": "c6186968",
   "metadata": {},
   "outputs": [
    {
     "name": "stdout",
     "output_type": "stream",
     "text": [
      "Input ia of  string\n"
     ]
    }
   ],
   "source": [
    "a = \"Python\"\n",
    "if type(a)== str :\n",
    "    print(\"Input ia of  string\")\n"
   ]
  },
  {
   "cell_type": "code",
   "execution_count": 22,
   "id": "57638354",
   "metadata": {},
   "outputs": [
    {
     "name": "stdout",
     "output_type": "stream",
     "text": [
      "Enter a numberpython\n",
      "Input ia of  string\n"
     ]
    }
   ],
   "source": [
    "a = input(\"Enter a number\")\n",
    "if type(a)== str or type(a)==int :\n",
    "    print(\"Input ia of  string\")\n"
   ]
  },
  {
   "cell_type": "code",
   "execution_count": 23,
   "id": "a52bdb41",
   "metadata": {},
   "outputs": [
    {
     "name": "stdout",
     "output_type": "stream",
     "text": [
      "Enter a number45\n",
      "Input ia of  string\n"
     ]
    }
   ],
   "source": [
    "a = input(\"Enter a number\")\n",
    "if type(a)== str or type(a)==int :\n",
    "    print(\"Input ia of  string\")\n"
   ]
  },
  {
   "cell_type": "code",
   "execution_count": 24,
   "id": "db026d48",
   "metadata": {},
   "outputs": [
    {
     "name": "stdout",
     "output_type": "stream",
     "text": [
      "Enter a number24\n",
      "Input ia of  string\n"
     ]
    }
   ],
   "source": [
    "a =int( input(\"Enter a number\"))\n",
    "if type(a)== str or type(a)==int :\n",
    "    print(\"Input ia of  string\")\n"
   ]
  },
  {
   "cell_type": "code",
   "execution_count": 25,
   "id": "72f9fba3",
   "metadata": {},
   "outputs": [
    {
     "name": "stdout",
     "output_type": "stream",
     "text": [
      "Enter your contact no:1234567890\n",
      " Number is verified \n"
     ]
    }
   ],
   "source": [
    "a = input(\"Enter your contact no:\")\n",
    "if len(a) == 10:\n",
    "    print(\" Number is verified \")\n",
    "else:\n",
    "    print (\"Enter vaid number\")"
   ]
  },
  {
   "cell_type": "code",
   "execution_count": 26,
   "id": "be6c7b3c",
   "metadata": {},
   "outputs": [
    {
     "name": "stdout",
     "output_type": "stream",
     "text": [
      "Enter your contact no:123455\n",
      "Enter vaid number\n"
     ]
    }
   ],
   "source": [
    " a = input(\"Enter your contact no:\")\n",
    "if len(a) == 10:\n",
    "    print(\" Number is verified \")\n",
    "else:\n",
    "    print (\"Enter vaid number\")"
   ]
  },
  {
   "cell_type": "code",
   "execution_count": null,
   "id": "a8d64247",
   "metadata": {},
   "outputs": [],
   "source": []
  }
 ],
 "metadata": {
  "kernelspec": {
   "display_name": "Python 3 (ipykernel)",
   "language": "python",
   "name": "python3"
  },
  "language_info": {
   "codemirror_mode": {
    "name": "ipython",
    "version": 3
   },
   "file_extension": ".py",
   "mimetype": "text/x-python",
   "name": "python",
   "nbconvert_exporter": "python",
   "pygments_lexer": "ipython3",
   "version": "3.9.12"
  }
 },
 "nbformat": 4,
 "nbformat_minor": 5
}
