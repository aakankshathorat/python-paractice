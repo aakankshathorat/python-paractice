{
 "cells": [
  {
   "cell_type": "markdown",
   "id": "1089c086",
   "metadata": {},
   "source": [
    "1.create a list of squared integer from a given list of integer."
   ]
  },
  {
   "cell_type": "code",
   "execution_count": 1,
   "id": "d431e444",
   "metadata": {},
   "outputs": [
    {
     "name": "stdout",
     "output_type": "stream",
     "text": [
      "sum of the list element [1, 4, 9, 16, 25, 36, 49, 64, 81, 100]\n"
     ]
    }
   ],
   "source": [
    "try:\n",
    "    \n",
    "    def sqr_integer(number):\n",
    "        \"This function will return as square\"\n",
    "        try:\n",
    "            abc = []\n",
    "            for i in number:\n",
    "                abc.append(i**2)\n",
    "            print(\"sum of the list element\", abc)\n",
    "        except exception as e:\n",
    "            print(e)\n",
    "    l = [1,2,3,4,5,6,7,8,9,10]        \n",
    "    sqr_integer(l)\n",
    "        \n",
    "except exception as e:\n",
    "    print(e)"
   ]
  },
  {
   "cell_type": "markdown",
   "id": "d8dba634",
   "metadata": {},
   "source": [
    "2. Create a list of even numbers from a given list of integers. "
   ]
  },
  {
   "cell_type": "code",
   "execution_count": 2,
   "id": "805dae61",
   "metadata": {},
   "outputs": [
    {
     "name": "stdout",
     "output_type": "stream",
     "text": [
      "sum of the list of even number [2, 4, 56, 34, 12]\n"
     ]
    }
   ],
   "source": [
    "try:\n",
    "    a = [2,3,4,5,56,34,23,12,7]\n",
    "    def even_integer(number):\n",
    "        \"This function will return in even number\"\n",
    "        try:\n",
    "            abc = []\n",
    "            for i in number:\n",
    "                if i%2==0:\n",
    "                    abc.append(i)\n",
    "            print(\"sum of the list of even number\",abc)\n",
    "        except exception as e:\n",
    "             print(e)\n",
    "                \n",
    "    even_integer(a)            \n",
    "                \n",
    "except exception as e:\n",
    "    print(e)"
   ]
  },
  {
   "cell_type": "markdown",
   "id": "830d4e4c",
   "metadata": {},
   "source": [
    "3. Create a list of all the positive numbers from a given list of integers."
   ]
  },
  {
   "cell_type": "code",
   "execution_count": 3,
   "id": "ebb7dd2b",
   "metadata": {},
   "outputs": [
    {
     "name": "stdout",
     "output_type": "stream",
     "text": [
      "sum of the positive number [5, 3, 7, 14]\n"
     ]
    }
   ],
   "source": [
    "try:\n",
    "    A = [-6,5,3,-7,-5,7,14]\n",
    "    def positive_no(number):\n",
    "        \"This function is in  positive number\"\n",
    "        try:\n",
    "            abc=[]\n",
    "            for i in number:\n",
    "                if i>0:\n",
    "                    abc.append(i)\n",
    "            print(\"sum of the positive number\",abc)\n",
    "        except exception as e:\n",
    "             print(e)\n",
    "                \n",
    "    positive_no(A)  \n",
    "    \n",
    "except exception as e:\n",
    "    print(e)"
   ]
  },
  {
   "cell_type": "markdown",
   "id": "b6ebc9e6",
   "metadata": {},
   "source": [
    "4. find the sum of all the elements in a given array of integers"
   ]
  },
  {
   "cell_type": "code",
   "execution_count": 4,
   "id": "c50d8c74",
   "metadata": {},
   "outputs": [
    {
     "name": "stdout",
     "output_type": "stream",
     "text": [
      "Requirement already satisfied: numpy in c:\\users\\hp\\anaconda3\\lib\\site-packages (1.21.5)\n"
     ]
    }
   ],
   "source": [
    "!pip install numpy"
   ]
  },
  {
   "cell_type": "code",
   "execution_count": 5,
   "id": "1446e9a6",
   "metadata": {},
   "outputs": [],
   "source": [
    "import numpy as np"
   ]
  },
  {
   "cell_type": "code",
   "execution_count": 6,
   "id": "522e2e79",
   "metadata": {},
   "outputs": [
    {
     "name": "stdout",
     "output_type": "stream",
     "text": [
      "sum of all elements 45\n"
     ]
    }
   ],
   "source": [
    "try:\n",
    "    l = [1,3,2,4,5,6,8,9,7]\n",
    "    a = np.array(l)\n",
    "    a\n",
    "    def array(number):\n",
    "        \"This function we return in array form\"\n",
    "        try:\n",
    "            total = 0  \n",
    "            for i in number:\n",
    "                total+=i\n",
    "            print(\"sum of all elements\",total)\n",
    "        except exception as e:\n",
    "             print(e)\n",
    "                \n",
    "    array(a)         \n",
    "                \n",
    "except exception as e:\n",
    "    print(e)"
   ]
  },
  {
   "cell_type": "markdown",
   "id": "148b4f6b",
   "metadata": {},
   "source": [
    "5.create a string of all the unique characters in a given string"
   ]
  },
  {
   "cell_type": "code",
   "execution_count": 8,
   "id": "06d796af",
   "metadata": {},
   "outputs": [
    {
     "name": "stdout",
     "output_type": "stream",
     "text": [
      "Enter a string Datascience\n",
      "output of string en ciastD\n"
     ]
    }
   ],
   "source": [
    "\n",
    "try:\n",
    "    words = input(\"Enter a string\")\n",
    "    def unique_character(string):\n",
    "        \"This will return the unique value\"\n",
    "        try:\n",
    "            \n",
    "            unique = string\n",
    "            result= \"\".join(set(unique))\n",
    "            print(\"output of string\",result)\n",
    "        except Exception as e:\n",
    "             print(e)\n",
    "                \n",
    "    unique_character(words)               \n",
    "                \n",
    "except Exception as e:\n",
    "    print(e)"
   ]
  },
  {
   "cell_type": "markdown",
   "id": "3e2c9dbb",
   "metadata": {},
   "source": [
    "6. write a python program to count the number 4 in a given list.list = [1,4,6,8,4,2,3,4]"
   ]
  },
  {
   "cell_type": "code",
   "execution_count": 9,
   "id": "17d2bc8f",
   "metadata": {},
   "outputs": [
    {
     "name": "stdout",
     "output_type": "stream",
     "text": [
      "3\n"
     ]
    }
   ],
   "source": [
    "try:\n",
    "    list = [1,4,6,8,4,2,3,4]\n",
    "    def count_num(number):\n",
    "        \"This function count a number\"\n",
    "        try:\n",
    "            count=number.count(4)\n",
    "            print(count)\n",
    "        except Exception as e:\n",
    "            print(e)\n",
    "            \n",
    "    count_num(list) \n",
    "    \n",
    "except Exception as e:\n",
    "    print(e)        "
   ]
  },
  {
   "cell_type": "markdown",
   "id": "e54456a3",
   "metadata": {},
   "source": [
    " 7.create a list of all words in a  given sentence"
   ]
  },
  {
   "cell_type": "code",
   "execution_count": 10,
   "id": "8488bbf7",
   "metadata": {},
   "outputs": [
    {
     "name": "stdout",
     "output_type": "stream",
     "text": [
      "Enter string valueLearning a datascience\n",
      "output of string: ['Learning', 'a', 'datascience']\n"
     ]
    }
   ],
   "source": [
    "s = input(\"Enter string value\")\n",
    "try:\n",
    "    def list_word(a): \n",
    "        \"This function is return in list\"\n",
    "        try:\n",
    "            list = a.split(\" \")\n",
    "            print(\"output of string:\" , list)\n",
    "        except Exception as e:\n",
    "             print(e)\n",
    "        \n",
    "    list_word(s)\n",
    "\n",
    "except Exception as e:\n",
    "        print(e)"
   ]
  },
  {
   "cell_type": "markdown",
   "id": "517895b6",
   "metadata": {},
   "source": [
    "8. write a python program that will acceptthe base and height of tringleand compute its area"
   ]
  },
  {
   "cell_type": "code",
   "execution_count": 11,
   "id": "930e1120",
   "metadata": {},
   "outputs": [
    {
     "name": "stdout",
     "output_type": "stream",
     "text": [
      "Enter the base of the triangle:4\n",
      "Enter the height of the triangle7\n",
      "14.0\n"
     ]
    }
   ],
   "source": [
    "try:\n",
    "    base = float(input(\"Enter the base of the triangle:\"))\n",
    "    height = float(input(\"Enter the height of the triangle\"))\n",
    "    def triangle_area(base,height):\n",
    "        \"This function show the base and height\"\n",
    "    try:\n",
    "        area = 0.5* (base* height)\n",
    "        print(area)\n",
    "    except Exception as e:\n",
    "        print(e)\n",
    "        \n",
    "    triangle_area(base,height)\n",
    "\n",
    "except Exception as e:\n",
    "        print(e)"
   ]
  },
  {
   "cell_type": "markdown",
   "id": "d7bd4745",
   "metadata": {},
   "source": [
    "  9.Write a Python program to calculate sum of digits of a number."
   ]
  },
  {
   "cell_type": "code",
   "execution_count": 12,
   "id": "68b059cf",
   "metadata": {},
   "outputs": [
    {
     "name": "stdout",
     "output_type": "stream",
     "text": [
      "Enter a number:457869\n",
      "The sum of the digit of the number is 39\n"
     ]
    }
   ],
   "source": [
    "num = input(\"Enter a number:\")\n",
    "try:\n",
    "    def calculate_digit_sum(number):\n",
    "        \"This function return in digit\"\n",
    "        try:\n",
    "            sum = 0\n",
    "            for i in num:\n",
    "                sum = sum + int(i)\n",
    "            print(\"The sum of the digit of the number is\",sum)\n",
    "        \n",
    "        except Exception as e:\n",
    "             print(e)\n",
    "    calculate_digit_sum(num)             \n",
    "    \n",
    "except Exception as e:\n",
    "    print(e)\n",
    " "
   ]
  },
  {
   "cell_type": "code",
   "execution_count": null,
   "id": "a099d268",
   "metadata": {},
   "outputs": [],
   "source": []
  }
 ],
 "metadata": {
  "kernelspec": {
   "display_name": "Python 3 (ipykernel)",
   "language": "python",
   "name": "python3"
  },
  "language_info": {
   "codemirror_mode": {
    "name": "ipython",
    "version": 3
   },
   "file_extension": ".py",
   "mimetype": "text/x-python",
   "name": "python",
   "nbconvert_exporter": "python",
   "pygments_lexer": "ipython3",
   "version": "3.9.12"
  }
 },
 "nbformat": 4,
 "nbformat_minor": 5
}
