{
 "cells": [
  {
   "cell_type": "code",
   "execution_count": 1,
   "id": "72efa327",
   "metadata": {},
   "outputs": [],
   "source": [
    "s = \"datascience\""
   ]
  },
  {
   "cell_type": "code",
   "execution_count": 2,
   "id": "344492c7",
   "metadata": {},
   "outputs": [
    {
     "data": {
      "text/plain": [
       "str"
      ]
     },
     "execution_count": 2,
     "metadata": {},
     "output_type": "execute_result"
    }
   ],
   "source": [
    "type(s)"
   ]
  },
  {
   "cell_type": "code",
   "execution_count": 3,
   "id": "2e83a246",
   "metadata": {},
   "outputs": [
    {
     "data": {
      "text/plain": [
       "11"
      ]
     },
     "execution_count": 3,
     "metadata": {},
     "output_type": "execute_result"
    }
   ],
   "source": [
    "len(s)"
   ]
  },
  {
   "cell_type": "code",
   "execution_count": 4,
   "id": "a64c5478",
   "metadata": {},
   "outputs": [
    {
     "data": {
      "text/plain": [
       "'datascience'"
      ]
     },
     "execution_count": 4,
     "metadata": {},
     "output_type": "execute_result"
    }
   ],
   "source": [
    "s"
   ]
  },
  {
   "cell_type": "code",
   "execution_count": 5,
   "id": "61270616",
   "metadata": {},
   "outputs": [
    {
     "data": {
      "text/plain": [
       "'c'"
      ]
     },
     "execution_count": 5,
     "metadata": {},
     "output_type": "execute_result"
    }
   ],
   "source": [
    "s[5]    "
   ]
  },
  {
   "cell_type": "code",
   "execution_count": 6,
   "id": "f4dd6ce8",
   "metadata": {},
   "outputs": [
    {
     "data": {
      "text/plain": [
       "'c'"
      ]
     },
     "execution_count": 6,
     "metadata": {},
     "output_type": "execute_result"
    }
   ],
   "source": [
    "s[9]"
   ]
  },
  {
   "cell_type": "code",
   "execution_count": 7,
   "id": "a07f6e4f",
   "metadata": {},
   "outputs": [],
   "source": [
    "s = \"Datascience\""
   ]
  },
  {
   "cell_type": "code",
   "execution_count": 8,
   "id": "9533bb2f",
   "metadata": {},
   "outputs": [
    {
     "data": {
      "text/plain": [
       "'Datascience'"
      ]
     },
     "execution_count": 8,
     "metadata": {},
     "output_type": "execute_result"
    }
   ],
   "source": [
    "s"
   ]
  },
  {
   "cell_type": "markdown",
   "id": "64db0655",
   "metadata": {},
   "source": [
    "[start:end]"
   ]
  },
  {
   "cell_type": "code",
   "execution_count": 9,
   "id": "e970fa5a",
   "metadata": {},
   "outputs": [
    {
     "data": {
      "text/plain": [
       "'ata'"
      ]
     },
     "execution_count": 9,
     "metadata": {},
     "output_type": "execute_result"
    }
   ],
   "source": [
    "s[1:4]"
   ]
  },
  {
   "cell_type": "code",
   "execution_count": 10,
   "id": "c5d3f9e8",
   "metadata": {},
   "outputs": [
    {
     "data": {
      "text/plain": [
       "'scien'"
      ]
     },
     "execution_count": 10,
     "metadata": {},
     "output_type": "execute_result"
    }
   ],
   "source": [
    "s[4:9]"
   ]
  },
  {
   "cell_type": "markdown",
   "id": "aad346f6",
   "metadata": {},
   "source": [
    "here we get all element"
   ]
  },
  {
   "cell_type": "code",
   "execution_count": 11,
   "id": "25ec11e0",
   "metadata": {},
   "outputs": [
    {
     "data": {
      "text/plain": [
       "'Datascience'"
      ]
     },
     "execution_count": 11,
     "metadata": {},
     "output_type": "execute_result"
    }
   ],
   "source": [
    "s[:] "
   ]
  },
  {
   "cell_type": "code",
   "execution_count": 12,
   "id": "65675a51",
   "metadata": {},
   "outputs": [
    {
     "data": {
      "text/plain": [
       "'Datascience'"
      ]
     },
     "execution_count": 12,
     "metadata": {},
     "output_type": "execute_result"
    }
   ],
   "source": [
    "s[0:]"
   ]
  },
  {
   "cell_type": "code",
   "execution_count": 13,
   "id": "47a6b0f9",
   "metadata": {},
   "outputs": [
    {
     "data": {
      "text/plain": [
       "'Datascienc'"
      ]
     },
     "execution_count": 13,
     "metadata": {},
     "output_type": "execute_result"
    }
   ],
   "source": [
    "s[:10]"
   ]
  },
  {
   "cell_type": "markdown",
   "id": "ae134b89",
   "metadata": {},
   "source": [
    "[start:end:step]"
   ]
  },
  {
   "cell_type": "code",
   "execution_count": 14,
   "id": "53b8d38c",
   "metadata": {},
   "outputs": [
    {
     "data": {
      "text/plain": [
       "'Datascience'"
      ]
     },
     "execution_count": 14,
     "metadata": {},
     "output_type": "execute_result"
    }
   ],
   "source": [
    "s"
   ]
  },
  {
   "cell_type": "code",
   "execution_count": 15,
   "id": "b4c6c748",
   "metadata": {},
   "outputs": [
    {
     "data": {
      "text/plain": [
       "'Dts'"
      ]
     },
     "execution_count": 15,
     "metadata": {},
     "output_type": "execute_result"
    }
   ],
   "source": [
    "s[0:5:2]"
   ]
  },
  {
   "cell_type": "code",
   "execution_count": 16,
   "id": "72a89425",
   "metadata": {},
   "outputs": [
    {
     "data": {
      "text/plain": [
       "'ecneicsataD'"
      ]
     },
     "execution_count": 16,
     "metadata": {},
     "output_type": "execute_result"
    }
   ],
   "source": [
    "s[::-1]"
   ]
  },
  {
   "cell_type": "code",
   "execution_count": 17,
   "id": "2e5a6f8c",
   "metadata": {},
   "outputs": [
    {
     "data": {
      "text/plain": [
       "''"
      ]
     },
     "execution_count": 17,
     "metadata": {},
     "output_type": "execute_result"
    }
   ],
   "source": [
    "s[0:15:-1] "
   ]
  },
  {
   "cell_type": "code",
   "execution_count": 18,
   "id": "519510a6",
   "metadata": {},
   "outputs": [
    {
     "data": {
      "text/plain": [
       "'Datascience'"
      ]
     },
     "execution_count": 18,
     "metadata": {},
     "output_type": "execute_result"
    }
   ],
   "source": [
    "s[0:100]"
   ]
  },
  {
   "cell_type": "code",
   "execution_count": 19,
   "id": "fe6d698f",
   "metadata": {},
   "outputs": [
    {
     "data": {
      "text/plain": [
       "''"
      ]
     },
     "execution_count": 19,
     "metadata": {},
     "output_type": "execute_result"
    }
   ],
   "source": [
    "s[-0:-100]"
   ]
  },
  {
   "cell_type": "code",
   "execution_count": 20,
   "id": "1a8690ae",
   "metadata": {},
   "outputs": [
    {
     "data": {
      "text/plain": [
       "11"
      ]
     },
     "execution_count": 20,
     "metadata": {},
     "output_type": "execute_result"
    }
   ],
   "source": [
    "len(s)"
   ]
  },
  {
   "cell_type": "code",
   "execution_count": 21,
   "id": "ee3e45cb",
   "metadata": {},
   "outputs": [
    {
     "data": {
      "text/plain": [
       "'Datascience'"
      ]
     },
     "execution_count": 21,
     "metadata": {},
     "output_type": "execute_result"
    }
   ],
   "source": [
    "s"
   ]
  },
  {
   "cell_type": "markdown",
   "id": "ab96089b",
   "metadata": {},
   "source": [
    "here we convert int in string"
   ]
  },
  {
   "cell_type": "code",
   "execution_count": 22,
   "id": "39b686ab",
   "metadata": {},
   "outputs": [
    {
     "data": {
      "text/plain": [
       "'Datascience1'"
      ]
     },
     "execution_count": 22,
     "metadata": {},
     "output_type": "execute_result"
    }
   ],
   "source": [
    "s +\"1\""
   ]
  },
  {
   "cell_type": "code",
   "execution_count": 23,
   "id": "471a5660",
   "metadata": {},
   "outputs": [],
   "source": [
    "s1=\"is easy\""
   ]
  },
  {
   "cell_type": "code",
   "execution_count": 24,
   "id": "9da6f03b",
   "metadata": {},
   "outputs": [
    {
     "data": {
      "text/plain": [
       "'Datascienceis easy'"
      ]
     },
     "execution_count": 24,
     "metadata": {},
     "output_type": "execute_result"
    }
   ],
   "source": [
    "s + s1"
   ]
  },
  {
   "cell_type": "code",
   "execution_count": 25,
   "id": "6c20ddfc",
   "metadata": {},
   "outputs": [
    {
     "data": {
      "text/plain": [
       "'DatascienceDatascienceDatascienceDatascienceDatascience'"
      ]
     },
     "execution_count": 25,
     "metadata": {},
     "output_type": "execute_result"
    }
   ],
   "source": [
    "s*5"
   ]
  },
  {
   "cell_type": "code",
   "execution_count": 26,
   "id": "67ca13e6",
   "metadata": {},
   "outputs": [
    {
     "data": {
      "text/plain": [
       "36"
      ]
     },
     "execution_count": 26,
     "metadata": {},
     "output_type": "execute_result"
    }
   ],
   "source": [
    "12*3"
   ]
  },
  {
   "cell_type": "code",
   "execution_count": 27,
   "id": "0b74e576",
   "metadata": {},
   "outputs": [
    {
     "data": {
      "text/plain": [
       "'DatascienceDatascienceDatascienceDatascience'"
      ]
     },
     "execution_count": 27,
     "metadata": {},
     "output_type": "execute_result"
    }
   ],
   "source": [
    "s*4"
   ]
  },
  {
   "cell_type": "markdown",
   "id": "a6d61f67",
   "metadata": {},
   "source": [
    "convert into list"
   ]
  },
  {
   "cell_type": "code",
   "execution_count": 28,
   "id": "a1477130",
   "metadata": {},
   "outputs": [
    {
     "data": {
      "text/plain": [
       "['D', 'a', 't', 'a', 's', 'c', 'i', 'e', 'n', 'c', 'e']"
      ]
     },
     "execution_count": 28,
     "metadata": {},
     "output_type": "execute_result"
    }
   ],
   "source": [
    "list(s)   "
   ]
  },
  {
   "cell_type": "markdown",
   "id": "91b6d8a6",
   "metadata": {},
   "source": [
    "convert into tuple"
   ]
  },
  {
   "cell_type": "code",
   "execution_count": 29,
   "id": "c0db87ab",
   "metadata": {},
   "outputs": [
    {
     "data": {
      "text/plain": [
       "('D', 'a', 't', 'a', 's', 'c', 'i', 'e', 'n', 'c', 'e')"
      ]
     },
     "execution_count": 29,
     "metadata": {},
     "output_type": "execute_result"
    }
   ],
   "source": [
    "tuple(s)"
   ]
  },
  {
   "cell_type": "code",
   "execution_count": 30,
   "id": "81074684",
   "metadata": {},
   "outputs": [
    {
     "data": {
      "text/plain": [
       "str"
      ]
     },
     "execution_count": 30,
     "metadata": {},
     "output_type": "execute_result"
    }
   ],
   "source": [
    "type(s)"
   ]
  },
  {
   "cell_type": "code",
   "execution_count": 35,
   "id": "2c10479d",
   "metadata": {},
   "outputs": [
    {
     "name": "stdout",
     "output_type": "stream",
     "text": [
      "Enter you namerani\n"
     ]
    }
   ],
   "source": [
    "s=input(\"Enter you name\")"
   ]
  },
  {
   "cell_type": "code",
   "execution_count": 36,
   "id": "9ae3fb70",
   "metadata": {},
   "outputs": [
    {
     "name": "stdout",
     "output_type": "stream",
     "text": [
      "Enteryou age22\n"
     ]
    }
   ],
   "source": [
    "s=input(\"Enteryou age\")"
   ]
  },
  {
   "cell_type": "code",
   "execution_count": 37,
   "id": "12c17d74",
   "metadata": {},
   "outputs": [
    {
     "data": {
      "text/plain": [
       "'22'"
      ]
     },
     "execution_count": 37,
     "metadata": {},
     "output_type": "execute_result"
    }
   ],
   "source": [
    "s"
   ]
  },
  {
   "cell_type": "raw",
   "id": "9f8578f3",
   "metadata": {},
   "source": [
    "convert into integer"
   ]
  },
  {
   "cell_type": "code",
   "execution_count": 39,
   "id": "57f2e826",
   "metadata": {},
   "outputs": [
    {
     "data": {
      "text/plain": [
       "22"
      ]
     },
     "execution_count": 39,
     "metadata": {},
     "output_type": "execute_result"
    }
   ],
   "source": [
    "int(s)"
   ]
  },
  {
   "cell_type": "code",
   "execution_count": 40,
   "id": "a7b71c85",
   "metadata": {},
   "outputs": [
    {
     "name": "stdout",
     "output_type": "stream",
     "text": [
      "enter you age: 22\n"
     ]
    }
   ],
   "source": [
    "s=int(input(\"enter you age:\"))"
   ]
  },
  {
   "cell_type": "code",
   "execution_count": 41,
   "id": "9bb56ceb",
   "metadata": {},
   "outputs": [
    {
     "data": {
      "text/plain": [
       "22"
      ]
     },
     "execution_count": 41,
     "metadata": {},
     "output_type": "execute_result"
    }
   ],
   "source": [
    "s"
   ]
  },
  {
   "cell_type": "raw",
   "id": "80b187f2",
   "metadata": {},
   "source": [
    "string method"
   ]
  },
  {
   "cell_type": "code",
   "execution_count": 42,
   "id": "cdf43e2c",
   "metadata": {},
   "outputs": [],
   "source": [
    "s= \"      python      \""
   ]
  },
  {
   "cell_type": "code",
   "execution_count": 43,
   "id": "2870f661",
   "metadata": {},
   "outputs": [
    {
     "data": {
      "text/plain": [
       "'      python      '"
      ]
     },
     "execution_count": 43,
     "metadata": {},
     "output_type": "execute_result"
    }
   ],
   "source": [
    "s"
   ]
  },
  {
   "cell_type": "raw",
   "id": "96f4af2f",
   "metadata": {},
   "source": [
    "we check the len"
   ]
  },
  {
   "cell_type": "code",
   "execution_count": 44,
   "id": "89933bf4",
   "metadata": {},
   "outputs": [
    {
     "data": {
      "text/plain": [
       "18"
      ]
     },
     "execution_count": 44,
     "metadata": {},
     "output_type": "execute_result"
    }
   ],
   "source": [
    "len(s)"
   ]
  },
  {
   "cell_type": "code",
   "execution_count": 45,
   "id": "b678ef70",
   "metadata": {},
   "outputs": [],
   "source": [
    "s=\"######python########\""
   ]
  },
  {
   "cell_type": "code",
   "execution_count": 46,
   "id": "83a1ff0f",
   "metadata": {},
   "outputs": [
    {
     "data": {
      "text/plain": [
       "'######python########'"
      ]
     },
     "execution_count": 46,
     "metadata": {},
     "output_type": "execute_result"
    }
   ],
   "source": [
    "s"
   ]
  },
  {
   "cell_type": "raw",
   "id": "7b8b54fb",
   "metadata": {},
   "source": [
    "we want to remove the space of right side then we use s.rstrip\n",
    "we want to remove the space of left side then we use s.lstrip\n",
    "we want to remove the space of both side then we use s.strip"
   ]
  },
  {
   "cell_type": "code",
   "execution_count": 47,
   "id": "7bdcf1fd",
   "metadata": {},
   "outputs": [],
   "source": [
    "s=\"         python        \""
   ]
  },
  {
   "cell_type": "code",
   "execution_count": 48,
   "id": "b692444e",
   "metadata": {},
   "outputs": [
    {
     "data": {
      "text/plain": [
       "'         python        '"
      ]
     },
     "execution_count": 48,
     "metadata": {},
     "output_type": "execute_result"
    }
   ],
   "source": [
    "s"
   ]
  },
  {
   "cell_type": "code",
   "execution_count": 49,
   "id": "b321fa94",
   "metadata": {},
   "outputs": [
    {
     "data": {
      "text/plain": [
       "23"
      ]
     },
     "execution_count": 49,
     "metadata": {},
     "output_type": "execute_result"
    }
   ],
   "source": [
    "len(s)"
   ]
  },
  {
   "cell_type": "code",
   "execution_count": 50,
   "id": "26f05fa0",
   "metadata": {},
   "outputs": [
    {
     "data": {
      "text/plain": [
       "'         python'"
      ]
     },
     "execution_count": 50,
     "metadata": {},
     "output_type": "execute_result"
    }
   ],
   "source": [
    "s.rstrip()"
   ]
  },
  {
   "cell_type": "code",
   "execution_count": 51,
   "id": "db5ecefd",
   "metadata": {},
   "outputs": [
    {
     "data": {
      "text/plain": [
       "'python        '"
      ]
     },
     "execution_count": 51,
     "metadata": {},
     "output_type": "execute_result"
    }
   ],
   "source": [
    "s.lstrip()\n"
   ]
  },
  {
   "cell_type": "code",
   "execution_count": 52,
   "id": "29920c64",
   "metadata": {
    "scrolled": true
   },
   "outputs": [
    {
     "data": {
      "text/plain": [
       "'python'"
      ]
     },
     "execution_count": 52,
     "metadata": {},
     "output_type": "execute_result"
    }
   ],
   "source": [
    "s.strip()"
   ]
  },
  {
   "cell_type": "code",
   "execution_count": 53,
   "id": "8de2b1df",
   "metadata": {},
   "outputs": [],
   "source": [
    "d = \"datascience\""
   ]
  },
  {
   "cell_type": "code",
   "execution_count": 54,
   "id": "4eca1572",
   "metadata": {},
   "outputs": [
    {
     "data": {
      "text/plain": [
       "'datascience'"
      ]
     },
     "execution_count": 54,
     "metadata": {},
     "output_type": "execute_result"
    }
   ],
   "source": [
    "d"
   ]
  },
  {
   "cell_type": "code",
   "execution_count": 55,
   "id": "11a42b2a",
   "metadata": {},
   "outputs": [
    {
     "data": {
      "text/plain": [
       "'datasciencedatasciencedatasciencedatasciencedatascience'"
      ]
     },
     "execution_count": 55,
     "metadata": {},
     "output_type": "execute_result"
    }
   ],
   "source": [
    "d*5"
   ]
  },
  {
   "cell_type": "raw",
   "id": "ac12d4fc",
   "metadata": {},
   "source": [
    "we seen the function"
   ]
  },
  {
   "cell_type": "code",
   "execution_count": 56,
   "id": "1c57b85d",
   "metadata": {},
   "outputs": [
    {
     "data": {
      "text/plain": [
       "-1"
      ]
     },
     "execution_count": 56,
     "metadata": {},
     "output_type": "execute_result"
    }
   ],
   "source": [
    "s.find (\"ata\")"
   ]
  },
  {
   "cell_type": "code",
   "execution_count": 57,
   "id": "5df16187",
   "metadata": {},
   "outputs": [
    {
     "data": {
      "text/plain": [
       "-1"
      ]
     },
     "execution_count": 57,
     "metadata": {},
     "output_type": "execute_result"
    }
   ],
   "source": [
    "s.find(\"sci\")"
   ]
  },
  {
   "cell_type": "raw",
   "id": "84289283",
   "metadata": {},
   "source": [
    "count the function"
   ]
  },
  {
   "cell_type": "code",
   "execution_count": 59,
   "id": "458669b7",
   "metadata": {},
   "outputs": [],
   "source": [
    "d = \"datascience\""
   ]
  },
  {
   "cell_type": "code",
   "execution_count": 60,
   "id": "dbc34c7f",
   "metadata": {},
   "outputs": [
    {
     "data": {
      "text/plain": [
       "'datascience'"
      ]
     },
     "execution_count": 60,
     "metadata": {},
     "output_type": "execute_result"
    }
   ],
   "source": [
    "d"
   ]
  },
  {
   "cell_type": "code",
   "execution_count": 61,
   "id": "e6d4fd11",
   "metadata": {},
   "outputs": [
    {
     "data": {
      "text/plain": [
       "-1"
      ]
     },
     "execution_count": 61,
     "metadata": {},
     "output_type": "execute_result"
    }
   ],
   "source": [
    "s.find (\"ata\")"
   ]
  },
  {
   "cell_type": "code",
   "execution_count": 62,
   "id": "ffe79954",
   "metadata": {},
   "outputs": [
    {
     "data": {
      "text/plain": [
       "0"
      ]
     },
     "execution_count": 62,
     "metadata": {},
     "output_type": "execute_result"
    }
   ],
   "source": [
    "s.count('sci')\n"
   ]
  },
  {
   "cell_type": "code",
   "execution_count": 63,
   "id": "8ea87086",
   "metadata": {},
   "outputs": [],
   "source": [
    "s=\"learning python\""
   ]
  },
  {
   "cell_type": "code",
   "execution_count": 64,
   "id": "c18cce3e",
   "metadata": {},
   "outputs": [
    {
     "data": {
      "text/plain": [
       "'learning python'"
      ]
     },
     "execution_count": 64,
     "metadata": {},
     "output_type": "execute_result"
    }
   ],
   "source": [
    "s"
   ]
  },
  {
   "cell_type": "raw",
   "id": "ca1d6993",
   "metadata": {},
   "source": [
    "lower and upper case"
   ]
  },
  {
   "cell_type": "code",
   "execution_count": 65,
   "id": "f062ccc2",
   "metadata": {},
   "outputs": [
    {
     "data": {
      "text/plain": [
       "'learning python'"
      ]
     },
     "execution_count": 65,
     "metadata": {},
     "output_type": "execute_result"
    }
   ],
   "source": [
    "s.lower()"
   ]
  },
  {
   "cell_type": "code",
   "execution_count": 66,
   "id": "52265954",
   "metadata": {},
   "outputs": [
    {
     "data": {
      "text/plain": [
       "'LEARNING PYTHON'"
      ]
     },
     "execution_count": 66,
     "metadata": {},
     "output_type": "execute_result"
    }
   ],
   "source": [
    "s.upper()"
   ]
  },
  {
   "cell_type": "code",
   "execution_count": 67,
   "id": "5e510ca0",
   "metadata": {},
   "outputs": [
    {
     "data": {
      "text/plain": [
       "'Learning Python'"
      ]
     },
     "execution_count": 67,
     "metadata": {},
     "output_type": "execute_result"
    }
   ],
   "source": [
    "s.title()"
   ]
  },
  {
   "cell_type": "raw",
   "id": "ad52c7ab",
   "metadata": {},
   "source": [
    "we get first letter in capital"
   ]
  },
  {
   "cell_type": "code",
   "execution_count": 68,
   "id": "1f06476a",
   "metadata": {},
   "outputs": [
    {
     "data": {
      "text/plain": [
       "'Learning python'"
      ]
     },
     "execution_count": 68,
     "metadata": {},
     "output_type": "execute_result"
    }
   ],
   "source": [
    "s.capitalize()      "
   ]
  },
  {
   "cell_type": "code",
   "execution_count": 69,
   "id": "37ff03d8",
   "metadata": {},
   "outputs": [],
   "source": [
    "s=\"learning python learning python learning python\""
   ]
  },
  {
   "cell_type": "code",
   "execution_count": 70,
   "id": "01887b50",
   "metadata": {},
   "outputs": [
    {
     "data": {
      "text/plain": [
       "'learning python learning python learning python'"
      ]
     },
     "execution_count": 70,
     "metadata": {},
     "output_type": "execute_result"
    }
   ],
   "source": [
    "s"
   ]
  },
  {
   "cell_type": "raw",
   "id": "103a3b4f",
   "metadata": {},
   "source": [
    "when we separate the string"
   ]
  },
  {
   "cell_type": "code",
   "execution_count": 71,
   "id": "d51d9020",
   "metadata": {},
   "outputs": [
    {
     "data": {
      "text/plain": [
       "['learning', 'python', 'learning', 'python', 'learning', 'python']"
      ]
     },
     "execution_count": 71,
     "metadata": {},
     "output_type": "execute_result"
    }
   ],
   "source": [
    "s.split(\" \") "
   ]
  },
  {
   "cell_type": "code",
   "execution_count": 72,
   "id": "dd239f17",
   "metadata": {},
   "outputs": [
    {
     "data": {
      "text/plain": [
       "list"
      ]
     },
     "execution_count": 72,
     "metadata": {},
     "output_type": "execute_result"
    }
   ],
   "source": [
    "type(s.split(\" \")) "
   ]
  },
  {
   "cell_type": "code",
   "execution_count": 73,
   "id": "a248e798",
   "metadata": {},
   "outputs": [],
   "source": [
    "s=\"python\""
   ]
  },
  {
   "cell_type": "code",
   "execution_count": 74,
   "id": "93acd964",
   "metadata": {},
   "outputs": [
    {
     "data": {
      "text/plain": [
       "'python'"
      ]
     },
     "execution_count": 74,
     "metadata": {},
     "output_type": "execute_result"
    }
   ],
   "source": [
    "s"
   ]
  },
  {
   "cell_type": "code",
   "execution_count": 75,
   "id": "0433cff0",
   "metadata": {},
   "outputs": [
    {
     "data": {
      "text/plain": [
       "6"
      ]
     },
     "execution_count": 75,
     "metadata": {},
     "output_type": "execute_result"
    }
   ],
   "source": [
    "len(s)"
   ]
  },
  {
   "cell_type": "raw",
   "id": "789c5524",
   "metadata": {},
   "source": [
    "heere we taking the string in center"
   ]
  },
  {
   "cell_type": "code",
   "execution_count": 76,
   "id": "6afa2ffc",
   "metadata": {},
   "outputs": [
    {
     "data": {
      "text/plain": [
       "'*********python*********'"
      ]
     },
     "execution_count": 76,
     "metadata": {},
     "output_type": "execute_result"
    }
   ],
   "source": [
    "s.center(24,\"*\")"
   ]
  },
  {
   "cell_type": "code",
   "execution_count": 77,
   "id": "4a5ac539",
   "metadata": {},
   "outputs": [],
   "source": [
    "s = \"python is easy\""
   ]
  },
  {
   "cell_type": "code",
   "execution_count": 78,
   "id": "a1052d0a",
   "metadata": {},
   "outputs": [
    {
     "data": {
      "text/plain": [
       "'python is easy'"
      ]
     },
     "execution_count": 78,
     "metadata": {},
     "output_type": "execute_result"
    }
   ],
   "source": [
    "s"
   ]
  },
  {
   "cell_type": "raw",
   "id": "fb4ebdd1",
   "metadata": {},
   "source": [
    "here we replace the element"
   ]
  },
  {
   "cell_type": "code",
   "execution_count": 79,
   "id": "67c86529",
   "metadata": {},
   "outputs": [],
   "source": [
    "n =\"java\""
   ]
  },
  {
   "cell_type": "code",
   "execution_count": 80,
   "id": "900d95e0",
   "metadata": {},
   "outputs": [
    {
     "data": {
      "text/plain": [
       "'java'"
      ]
     },
     "execution_count": 80,
     "metadata": {},
     "output_type": "execute_result"
    }
   ],
   "source": [
    "n"
   ]
  },
  {
   "cell_type": "code",
   "execution_count": 81,
   "id": "61b19580",
   "metadata": {},
   "outputs": [
    {
     "data": {
      "text/plain": [
       "'java is easy'"
      ]
     },
     "execution_count": 81,
     "metadata": {},
     "output_type": "execute_result"
    }
   ],
   "source": [
    "s.replace(\"python\", n)"
   ]
  },
  {
   "cell_type": "code",
   "execution_count": 82,
   "id": "52aee05a",
   "metadata": {},
   "outputs": [],
   "source": [
    "t=(\"python\",\"c\",\"c++\",\"java\")"
   ]
  },
  {
   "cell_type": "code",
   "execution_count": 83,
   "id": "f11f55a9",
   "metadata": {},
   "outputs": [
    {
     "data": {
      "text/plain": [
       "('python', 'c', 'c++', 'java')"
      ]
     },
     "execution_count": 83,
     "metadata": {},
     "output_type": "execute_result"
    }
   ],
   "source": [
    "t"
   ]
  },
  {
   "cell_type": "raw",
   "id": "683517dc",
   "metadata": {},
   "source": [
    "we join the element"
   ]
  },
  {
   "cell_type": "code",
   "execution_count": 84,
   "id": "9672959e",
   "metadata": {},
   "outputs": [],
   "source": [
    "s=\"*\".join(t)"
   ]
  },
  {
   "cell_type": "code",
   "execution_count": 85,
   "id": "7dbd7f45",
   "metadata": {},
   "outputs": [
    {
     "data": {
      "text/plain": [
       "'python*c*c++*java'"
      ]
     },
     "execution_count": 85,
     "metadata": {},
     "output_type": "execute_result"
    }
   ],
   "source": [
    "s"
   ]
  },
  {
   "cell_type": "code",
   "execution_count": 86,
   "id": "56c6fdd3",
   "metadata": {},
   "outputs": [],
   "source": [
    "s=\"#\".join(t)"
   ]
  },
  {
   "cell_type": "code",
   "execution_count": 87,
   "id": "ebf55c99",
   "metadata": {},
   "outputs": [
    {
     "data": {
      "text/plain": [
       "'python#c#c++#java'"
      ]
     },
     "execution_count": 87,
     "metadata": {},
     "output_type": "execute_result"
    }
   ],
   "source": [
    "s"
   ]
  },
  {
   "cell_type": "code",
   "execution_count": 88,
   "id": "d987e4f5",
   "metadata": {},
   "outputs": [],
   "source": [
    "a=\"learningpython\""
   ]
  },
  {
   "cell_type": "code",
   "execution_count": 89,
   "id": "40a46585",
   "metadata": {},
   "outputs": [
    {
     "data": {
      "text/plain": [
       "'learningpython'"
      ]
     },
     "execution_count": 89,
     "metadata": {},
     "output_type": "execute_result"
    }
   ],
   "source": [
    "a"
   ]
  },
  {
   "cell_type": "raw",
   "id": "7477c6c3",
   "metadata": {},
   "source": [
    "convert into swapcase"
   ]
  },
  {
   "cell_type": "code",
   "execution_count": 90,
   "id": "c674c45b",
   "metadata": {},
   "outputs": [
    {
     "data": {
      "text/plain": [
       "'LEARNINGPYTHON'"
      ]
     },
     "execution_count": 90,
     "metadata": {},
     "output_type": "execute_result"
    }
   ],
   "source": [
    "a.swapcase()"
   ]
  },
  {
   "cell_type": "code",
   "execution_count": 91,
   "id": "85f2db59",
   "metadata": {},
   "outputs": [],
   "source": [
    "s=\"aakanksha\""
   ]
  },
  {
   "cell_type": "code",
   "execution_count": 92,
   "id": "9593982d",
   "metadata": {},
   "outputs": [
    {
     "data": {
      "text/plain": [
       "'aakanksha'"
      ]
     },
     "execution_count": 92,
     "metadata": {},
     "output_type": "execute_result"
    }
   ],
   "source": [
    "s"
   ]
  },
  {
   "cell_type": "code",
   "execution_count": 93,
   "id": "9c0aa17b",
   "metadata": {},
   "outputs": [
    {
     "data": {
      "text/plain": [
       "str"
      ]
     },
     "execution_count": 93,
     "metadata": {},
     "output_type": "execute_result"
    }
   ],
   "source": [
    "type(s)"
   ]
  },
  {
   "cell_type": "code",
   "execution_count": 94,
   "id": "5376fa37",
   "metadata": {
    "scrolled": true
   },
   "outputs": [
    {
     "data": {
      "text/plain": [
       "True"
      ]
     },
     "execution_count": 94,
     "metadata": {},
     "output_type": "execute_result"
    }
   ],
   "source": [
    "s.islower()"
   ]
  },
  {
   "cell_type": "code",
   "execution_count": 95,
   "id": "c21867fb",
   "metadata": {},
   "outputs": [],
   "source": [
    "s=\"Aakanksha\""
   ]
  },
  {
   "cell_type": "code",
   "execution_count": 96,
   "id": "06882bbd",
   "metadata": {},
   "outputs": [
    {
     "data": {
      "text/plain": [
       "'Aakanksha'"
      ]
     },
     "execution_count": 96,
     "metadata": {},
     "output_type": "execute_result"
    }
   ],
   "source": [
    "s"
   ]
  },
  {
   "cell_type": "code",
   "execution_count": 97,
   "id": "23997aec",
   "metadata": {},
   "outputs": [
    {
     "data": {
      "text/plain": [
       "False"
      ]
     },
     "execution_count": 97,
     "metadata": {},
     "output_type": "execute_result"
    }
   ],
   "source": [
    "s.islower()"
   ]
  },
  {
   "cell_type": "code",
   "execution_count": 98,
   "id": "12c13f2c",
   "metadata": {},
   "outputs": [
    {
     "data": {
      "text/plain": [
       "False"
      ]
     },
     "execution_count": 98,
     "metadata": {},
     "output_type": "execute_result"
    }
   ],
   "source": [
    "s.isupper()"
   ]
  },
  {
   "cell_type": "code",
   "execution_count": 99,
   "id": "63e34ca7",
   "metadata": {},
   "outputs": [
    {
     "data": {
      "text/plain": [
       "True"
      ]
     },
     "execution_count": 99,
     "metadata": {},
     "output_type": "execute_result"
    }
   ],
   "source": [
    "s.istitle()"
   ]
  },
  {
   "cell_type": "code",
   "execution_count": 100,
   "id": "c221e02a",
   "metadata": {},
   "outputs": [],
   "source": [
    "s=\"aakanksha\""
   ]
  },
  {
   "cell_type": "code",
   "execution_count": 101,
   "id": "cf12a2a1",
   "metadata": {},
   "outputs": [
    {
     "data": {
      "text/plain": [
       "'aakanksha'"
      ]
     },
     "execution_count": 101,
     "metadata": {},
     "output_type": "execute_result"
    }
   ],
   "source": [
    "s"
   ]
  },
  {
   "cell_type": "code",
   "execution_count": 102,
   "id": "435d8123",
   "metadata": {},
   "outputs": [],
   "source": [
    "s=\" \""
   ]
  },
  {
   "cell_type": "code",
   "execution_count": 103,
   "id": "c0a2bf44",
   "metadata": {},
   "outputs": [
    {
     "data": {
      "text/plain": [
       "True"
      ]
     },
     "execution_count": 103,
     "metadata": {},
     "output_type": "execute_result"
    }
   ],
   "source": [
    "s.isspace()"
   ]
  },
  {
   "cell_type": "code",
   "execution_count": 104,
   "id": "4caa1755",
   "metadata": {},
   "outputs": [
    {
     "data": {
      "text/plain": [
       "True"
      ]
     },
     "execution_count": 104,
     "metadata": {},
     "output_type": "execute_result"
    }
   ],
   "source": [
    "a.isalnum()"
   ]
  },
  {
   "cell_type": "code",
   "execution_count": 105,
   "id": "57314b2e",
   "metadata": {},
   "outputs": [],
   "source": [
    "a=\"asdfg\""
   ]
  },
  {
   "cell_type": "code",
   "execution_count": 106,
   "id": "46357779",
   "metadata": {},
   "outputs": [
    {
     "data": {
      "text/plain": [
       "'asdfg'"
      ]
     },
     "execution_count": 106,
     "metadata": {},
     "output_type": "execute_result"
    }
   ],
   "source": [
    "a"
   ]
  },
  {
   "cell_type": "code",
   "execution_count": 107,
   "id": "b27c9d84",
   "metadata": {},
   "outputs": [
    {
     "data": {
      "text/plain": [
       "True"
      ]
     },
     "execution_count": 107,
     "metadata": {},
     "output_type": "execute_result"
    }
   ],
   "source": [
    "a.isalnum()"
   ]
  },
  {
   "cell_type": "code",
   "execution_count": 108,
   "id": "e7fd1330",
   "metadata": {},
   "outputs": [],
   "source": [
    "a=\"asdfg\""
   ]
  },
  {
   "cell_type": "code",
   "execution_count": 109,
   "id": "798f38a2",
   "metadata": {},
   "outputs": [
    {
     "data": {
      "text/plain": [
       "'asdfg'"
      ]
     },
     "execution_count": 109,
     "metadata": {},
     "output_type": "execute_result"
    }
   ],
   "source": [
    "a"
   ]
  },
  {
   "cell_type": "code",
   "execution_count": 110,
   "id": "a8bedb07",
   "metadata": {},
   "outputs": [
    {
     "data": {
      "text/plain": [
       "True"
      ]
     },
     "execution_count": 110,
     "metadata": {},
     "output_type": "execute_result"
    }
   ],
   "source": [
    "a.isalpha()"
   ]
  },
  {
   "cell_type": "code",
   "execution_count": 111,
   "id": "788b8582",
   "metadata": {},
   "outputs": [],
   "source": [
    "a=\"asdfg234\""
   ]
  },
  {
   "cell_type": "code",
   "execution_count": 112,
   "id": "a4626d70",
   "metadata": {},
   "outputs": [
    {
     "data": {
      "text/plain": [
       "'asdfg234'"
      ]
     },
     "execution_count": 112,
     "metadata": {},
     "output_type": "execute_result"
    }
   ],
   "source": [
    "a"
   ]
  },
  {
   "cell_type": "code",
   "execution_count": 113,
   "id": "593d34a2",
   "metadata": {},
   "outputs": [
    {
     "data": {
      "text/plain": [
       "False"
      ]
     },
     "execution_count": 113,
     "metadata": {},
     "output_type": "execute_result"
    }
   ],
   "source": [
    "a.isalpha()"
   ]
  },
  {
   "cell_type": "code",
   "execution_count": 114,
   "id": "0841667a",
   "metadata": {},
   "outputs": [
    {
     "data": {
      "text/plain": [
       "False"
      ]
     },
     "execution_count": 114,
     "metadata": {},
     "output_type": "execute_result"
    }
   ],
   "source": [
    "a.isdigit()"
   ]
  },
  {
   "cell_type": "code",
   "execution_count": 115,
   "id": "e26ce61e",
   "metadata": {},
   "outputs": [],
   "source": [
    "s=\"learning Data science\""
   ]
  },
  {
   "cell_type": "code",
   "execution_count": 116,
   "id": "2d9d93f4",
   "metadata": {},
   "outputs": [
    {
     "data": {
      "text/plain": [
       "'learning Data science'"
      ]
     },
     "execution_count": 116,
     "metadata": {},
     "output_type": "execute_result"
    }
   ],
   "source": [
    "s"
   ]
  },
  {
   "cell_type": "code",
   "execution_count": 117,
   "id": "47b79f0b",
   "metadata": {},
   "outputs": [
    {
     "data": {
      "text/plain": [
       "True"
      ]
     },
     "execution_count": 117,
     "metadata": {},
     "output_type": "execute_result"
    }
   ],
   "source": [
    "\"learning\" in s"
   ]
  },
  {
   "cell_type": "code",
   "execution_count": 118,
   "id": "365093e1",
   "metadata": {},
   "outputs": [
    {
     "data": {
      "text/plain": [
       "False"
      ]
     },
     "execution_count": 118,
     "metadata": {},
     "output_type": "execute_result"
    }
   ],
   "source": [
    "\"java\" in s"
   ]
  },
  {
   "cell_type": "code",
   "execution_count": 119,
   "id": "80187fdc",
   "metadata": {},
   "outputs": [],
   "source": [
    "s=\"learning Data science\""
   ]
  },
  {
   "cell_type": "code",
   "execution_count": 120,
   "id": "36ae741b",
   "metadata": {},
   "outputs": [
    {
     "data": {
      "text/plain": [
       "'learning Data science'"
      ]
     },
     "execution_count": 120,
     "metadata": {},
     "output_type": "execute_result"
    }
   ],
   "source": [
    "s"
   ]
  },
  {
   "cell_type": "code",
   "execution_count": 121,
   "id": "a5c2c81e",
   "metadata": {},
   "outputs": [
    {
     "data": {
      "text/plain": [
       "True"
      ]
     },
     "execution_count": 121,
     "metadata": {},
     "output_type": "execute_result"
    }
   ],
   "source": [
    "s.startswith(\"learning\")"
   ]
  },
  {
   "cell_type": "code",
   "execution_count": 122,
   "id": "4dcf7231",
   "metadata": {},
   "outputs": [
    {
     "data": {
      "text/plain": [
       "True"
      ]
     },
     "execution_count": 122,
     "metadata": {},
     "output_type": "execute_result"
    }
   ],
   "source": [
    "s.endswith(\"science\")"
   ]
  },
  {
   "cell_type": "code",
   "execution_count": 123,
   "id": "adfda16b",
   "metadata": {},
   "outputs": [],
   "source": [
    "a=\"abcd@12.com\""
   ]
  },
  {
   "cell_type": "code",
   "execution_count": 124,
   "id": "2b31d30f",
   "metadata": {},
   "outputs": [
    {
     "data": {
      "text/plain": [
       "'abcd@12.com'"
      ]
     },
     "execution_count": 124,
     "metadata": {},
     "output_type": "execute_result"
    }
   ],
   "source": [
    "a"
   ]
  },
  {
   "cell_type": "code",
   "execution_count": 125,
   "id": "115e101b",
   "metadata": {},
   "outputs": [
    {
     "data": {
      "text/plain": [
       "True"
      ]
     },
     "execution_count": 125,
     "metadata": {},
     "output_type": "execute_result"
    }
   ],
   "source": [
    "a.startswith(\"abcd\")"
   ]
  },
  {
   "cell_type": "code",
   "execution_count": 126,
   "id": "64b54821",
   "metadata": {},
   "outputs": [
    {
     "data": {
      "text/plain": [
       "True"
      ]
     },
     "execution_count": 126,
     "metadata": {},
     "output_type": "execute_result"
    }
   ],
   "source": [
    "a.endswith(\"com\")"
   ]
  },
  {
   "cell_type": "code",
   "execution_count": 127,
   "id": "16a55b3c",
   "metadata": {},
   "outputs": [],
   "source": [
    "s=\"python\""
   ]
  },
  {
   "cell_type": "code",
   "execution_count": 128,
   "id": "1275b329",
   "metadata": {},
   "outputs": [
    {
     "data": {
      "text/plain": [
       "'python'"
      ]
     },
     "execution_count": 128,
     "metadata": {},
     "output_type": "execute_result"
    }
   ],
   "source": [
    "s"
   ]
  },
  {
   "cell_type": "code",
   "execution_count": 129,
   "id": "15b4f87a",
   "metadata": {},
   "outputs": [
    {
     "data": {
      "text/plain": [
       "2"
      ]
     },
     "execution_count": 129,
     "metadata": {},
     "output_type": "execute_result"
    }
   ],
   "source": [
    "s.index(\"t\")"
   ]
  },
  {
   "cell_type": "code",
   "execution_count": 130,
   "id": "b6009fcf",
   "metadata": {},
   "outputs": [
    {
     "data": {
      "text/plain": [
       "4"
      ]
     },
     "execution_count": 130,
     "metadata": {},
     "output_type": "execute_result"
    }
   ],
   "source": [
    "s.index(\"o\")"
   ]
  },
  {
   "cell_type": "code",
   "execution_count": 131,
   "id": "67c8a9fe",
   "metadata": {},
   "outputs": [],
   "source": [
    "s=\"learning Data science is easy\""
   ]
  },
  {
   "cell_type": "code",
   "execution_count": 132,
   "id": "b7408967",
   "metadata": {},
   "outputs": [
    {
     "data": {
      "text/plain": [
       "'learning Data science is easy'"
      ]
     },
     "execution_count": 132,
     "metadata": {},
     "output_type": "execute_result"
    }
   ],
   "source": [
    "s"
   ]
  },
  {
   "cell_type": "code",
   "execution_count": 142,
   "id": "03290009",
   "metadata": {},
   "outputs": [
    {
     "data": {
      "text/plain": [
       "('data', '', '')"
      ]
     },
     "execution_count": 142,
     "metadata": {},
     "output_type": "execute_result"
    }
   ],
   "source": [
    "s.partition (\"Data\")            "
   ]
  },
  {
   "cell_type": "code",
   "execution_count": 143,
   "id": "20b688e7",
   "metadata": {},
   "outputs": [
    {
     "data": {
      "text/plain": [
       "('data', '', '')"
      ]
     },
     "execution_count": 143,
     "metadata": {},
     "output_type": "execute_result"
    }
   ],
   "source": [
    "s.partition(\"science\")"
   ]
  },
  {
   "cell_type": "code",
   "execution_count": 144,
   "id": "c89ade75",
   "metadata": {},
   "outputs": [],
   "source": [
    "s=\"50\""
   ]
  },
  {
   "cell_type": "code",
   "execution_count": 145,
   "id": "7efb880f",
   "metadata": {},
   "outputs": [
    {
     "data": {
      "text/plain": [
       "'50'"
      ]
     },
     "execution_count": 145,
     "metadata": {},
     "output_type": "execute_result"
    }
   ],
   "source": [
    "s"
   ]
  },
  {
   "cell_type": "code",
   "execution_count": 146,
   "id": "ac328e35",
   "metadata": {},
   "outputs": [
    {
     "data": {
      "text/plain": [
       "2"
      ]
     },
     "execution_count": 146,
     "metadata": {},
     "output_type": "execute_result"
    }
   ],
   "source": [
    "len(s)"
   ]
  },
  {
   "cell_type": "raw",
   "id": "75cacfbd",
   "metadata": {},
   "source": [
    "s.zfill()that increase the len"
   ]
  },
  {
   "cell_type": "code",
   "execution_count": 147,
   "id": "59cd504f",
   "metadata": {},
   "outputs": [
    {
     "data": {
      "text/plain": [
       "'0000000050'"
      ]
     },
     "execution_count": 147,
     "metadata": {},
     "output_type": "execute_result"
    }
   ],
   "source": [
    "s.zfill(10)"
   ]
  },
  {
   "cell_type": "code",
   "execution_count": 148,
   "id": "0d35a265",
   "metadata": {},
   "outputs": [],
   "source": [
    "s=(\"data\")"
   ]
  },
  {
   "cell_type": "code",
   "execution_count": 149,
   "id": "3e235d4e",
   "metadata": {},
   "outputs": [
    {
     "data": {
      "text/plain": [
       "'data'"
      ]
     },
     "execution_count": 149,
     "metadata": {},
     "output_type": "execute_result"
    }
   ],
   "source": [
    "\n",
    "s"
   ]
  },
  {
   "cell_type": "code",
   "execution_count": 141,
   "id": "40e31ff9",
   "metadata": {
    "scrolled": true
   },
   "outputs": [
    {
     "data": {
      "text/plain": [
       "'000000000000000data'"
      ]
     },
     "execution_count": 141,
     "metadata": {},
     "output_type": "execute_result"
    }
   ],
   "source": [
    "s.zfill(19)"
   ]
  },
  {
   "cell_type": "code",
   "execution_count": null,
   "id": "71ae5ba2",
   "metadata": {},
   "outputs": [],
   "source": []
  }
 ],
 "metadata": {
  "kernelspec": {
   "display_name": "Python 3 (ipykernel)",
   "language": "python",
   "name": "python3"
  },
  "language_info": {
   "codemirror_mode": {
    "name": "ipython",
    "version": 3
   },
   "file_extension": ".py",
   "mimetype": "text/x-python",
   "name": "python",
   "nbconvert_exporter": "python",
   "pygments_lexer": "ipython3",
   "version": "3.9.12"
  }
 },
 "nbformat": 4,
 "nbformat_minor": 5
}
